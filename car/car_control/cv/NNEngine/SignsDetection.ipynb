{
  "cells": [
    {
      "cell_type": "markdown",
      "metadata": {
        "id": "06zh7SmsOyey"
      },
      "source": [
        "**Check That GPU installed and Connect drive for weights backup**"
      ]
    },
    {
      "cell_type": "code",
      "execution_count": null,
      "metadata": {
        "colab": {
          "base_uri": "https://localhost:8080/"
        },
        "id": "L0U_gJsIOwx-",
        "outputId": "98e5a383-ff3d-46de-e650-4581abf126b1"
      },
      "outputs": [],
      "source": [
        "from google.colab import drive\n",
        "drive.mount('/content/drive')"
      ]
    },
    {
      "cell_type": "code",
      "execution_count": null,
      "metadata": {
        "colab": {
          "base_uri": "https://localhost:8080/"
        },
        "id": "VWA6M8k5CPdw",
        "outputId": "13beba33-89b8-4de4-e703-50a1f700e29a"
      },
      "outputs": [],
      "source": [
        "!nvidia-smi"
      ]
    },
    {
      "cell_type": "markdown",
      "metadata": {
        "id": "7X9eSYSwfU9S"
      },
      "source": [
        "#Define helper functions"
      ]
    },
    {
      "cell_type": "code",
      "execution_count": null,
      "metadata": {
        "id": "0No3aRNwfZB9"
      },
      "outputs": [],
      "source": [
        "# define helper functions\n",
        "def imShow(path):\n",
        "  import cv2\n",
        "  import matplotlib.pyplot as plt\n",
        "  %matplotlib inline\n",
        "\n",
        "  image = cv2.imread(path)\n",
        "  height, width = image.shape[:2]\n",
        "  resized_image = cv2.resize(image,(3*width, 3*height), interpolation = cv2.INTER_CUBIC)\n",
        "\n",
        "  fig = plt.gcf()\n",
        "  fig.set_size_inches(18, 10)\n",
        "  plt.axis(\"off\")\n",
        "  plt.imshow(cv2.cvtColor(resized_image, cv2.COLOR_BGR2RGB))\n",
        "  plt.show()\n",
        "\n",
        "# use this to upload files\n",
        "def upload():\n",
        "  from google.colab import files\n",
        "  uploaded = files.upload() \n",
        "  for name, data in uploaded.items():\n",
        "    with open(name, 'wb') as f:\n",
        "      f.write(data)\n",
        "      print ('saved file', name)\n",
        "\n",
        "# use this to download a file  \n",
        "def download(path):\n",
        "  from google.colab import files\n",
        "  files.download(path)\n",
        "\n",
        "def correct_name(string):\n",
        "    string = string.split()\n",
        "    classname = [f\"{string[0]}_{string[1]} \"]\n",
        "    coords = [f'{x} ' for x in string[2:]]\n",
        "    bbox = ''.join(classname + coords) + '\\n'\n",
        "    return bbox\n",
        "\n",
        "def rewrite_annotations(current_dir):\n",
        "    for filename in os.listdir(current_dir):\n",
        "        with open(os.path.join(current_dir, filename), 'r') as f:\n",
        "            out_string = ''.join([correct_name(string) for string in f.readlines()])\n",
        "            with open(os.path.join(current_dir, filename), 'w') as fw:\n",
        "                fw.write(out_string)\n",
        "\n",
        "import os\n",
        "import tqdm.notebook\n",
        "\n",
        "def create_darknet_annotations(path, dir, write_dir):\n",
        "    '''\n",
        "    Arguments: \n",
        "\n",
        "    path : str : path to annotation file\n",
        "    dir : str : path to directory. with image\n",
        "    write_dir : str : path to directory which \n",
        "                u want to write in annotations\n",
        "    \n",
        "    Returns: \n",
        "    \n",
        "    Path to annotation file\n",
        "    '''\n",
        "    filenames = os.listdir(dir)\n",
        "    img_filenames = ['./'+os.path.join(write_dir, filename) + '\\n' for filename in tqdm.notebook.tqdm(list(filenames), total = len(filenames))\n",
        "                     if filename.endswith('.jpg')]\n",
        "    with open(path, 'w') as af:\n",
        "        af.write(''.join(img_filenames))\n",
        "\n",
        "def create_config_files(\n",
        "                    dir, \n",
        "                    classnames, \n",
        "                    backup_path,\n",
        "                    ):\n",
        "    '''\n",
        "    Arguments:\n",
        "\n",
        "    dir : str : directory to write config files\n",
        "\n",
        "    Returns:\n",
        "\n",
        "    output directory\n",
        "    '''\n",
        "\n",
        "    if not os.path.isdir(backup_path):\n",
        "        os.mkdir(backup_path)\n",
        "\n",
        "    names_file = os.path.join(dir, 'obj.names')\n",
        "    data_file = os.path.join(dir, 'obj.data')\n",
        "    train_path = os.path.join(dir, 'train.txt')\n",
        "    valid_path = os.path.join(dir, 'test.txt')\n",
        "\n",
        "    with open(names_file, 'w') as fn:\n",
        "        fn.write(''.join(classname + '\\n' for classname in classnames))\n",
        "    \n",
        "    with open(data_file, 'w') as fd:\n",
        "        fd.write(f'classes = {len(classnames)}\\ntrain = {train_path}\\nvalid = {valid_path}\\nnames = {names_file}\\nbackup = {backup_path}')\n",
        "    \n",
        "    return dir"
      ]
    },
    {
      "cell_type": "markdown",
      "metadata": {
        "id": "dA5j5MTLNaR2"
      },
      "source": [
        "#Download dataset from OID"
      ]
    },
    {
      "cell_type": "code",
      "execution_count": null,
      "metadata": {
        "id": "UltJdMQANrXD"
      },
      "outputs": [],
      "source": [
        "!git clone https://github.com/theAIGuysCode/OIDv4_ToolKit.git\n",
        "%cd OIDv4_ToolKit\n",
        "!pip install -r requirements.txt"
      ]
    },
    {
      "cell_type": "code",
      "execution_count": null,
      "metadata": {
        "id": "YreLO_8KNtUx"
      },
      "outputs": [],
      "source": [
        "!python main.py downloader --classes 'Traffic_light' 'Traffic_sign' --type_csv train --limit 1500 --multiclasses 1"
      ]
    },
    {
      "cell_type": "code",
      "execution_count": null,
      "metadata": {
        "id": "4lLiGvedNuxs"
      },
      "outputs": [],
      "source": [
        "!python main.py downloader --classes Traffic_light Traffic_sign --type_csv validation --limit 500 --multiclasses 1"
      ]
    },
    {
      "cell_type": "code",
      "execution_count": null,
      "metadata": {
        "id": "WgG4peHMN8eN"
      },
      "outputs": [],
      "source": [
        "os.rename('./OID/Dataset/train/Traffic light_Traffic sign',\n",
        "          './OID/Dataset/train/Traffic_light_Traffic_sign')\n",
        "\n",
        "os.rename('./OID/Dataset/validation/Traffic light_Traffic sign',\n",
        "          './OID/Dataset/validation/Traffic_light_Traffic_sign')"
      ]
    },
    {
      "cell_type": "code",
      "execution_count": null,
      "metadata": {
        "id": "YX11whGtOB6-"
      },
      "outputs": [],
      "source": [
        "with open('./classes.txt', 'w') as f:\n",
        "    f.write('Traffic_light\\nTraffic_sign')"
      ]
    },
    {
      "cell_type": "code",
      "execution_count": null,
      "metadata": {
        "id": "yqOgJm7wOLX9"
      },
      "outputs": [],
      "source": [
        "train_dir = './OID/Dataset/train/Traffic_light_Traffic_sign/Label'\n",
        "val_dir = './OID/Dataset/validation/Traffic_light_Traffic_sign/Label'"
      ]
    },
    {
      "cell_type": "code",
      "execution_count": null,
      "metadata": {
        "id": "acS5AacnOP9n"
      },
      "outputs": [],
      "source": [
        "rewrite_annotations(train_dir)\n",
        "rewrite_annotations(val_dir)"
      ]
    },
    {
      "cell_type": "code",
      "execution_count": null,
      "metadata": {
        "id": "ZWkCr28UOSqq"
      },
      "outputs": [],
      "source": [
        "!python convert_annotations.py"
      ]
    },
    {
      "cell_type": "code",
      "execution_count": null,
      "metadata": {
        "id": "so3JTmszOeBs"
      },
      "outputs": [],
      "source": [
        "create_darknet_annotations(path = './train.txt', \n",
        "                           dir = './train',\n",
        "                           write_dir = 'yolov4/train'\n",
        "                           )\n",
        "create_darknet_annotations(path = './test.txt', \n",
        "                           dir = './test',\n",
        "                           write_dir = 'yolov4/test'\n",
        "                           )"
      ]
    },
    {
      "cell_type": "code",
      "execution_count": null,
      "metadata": {
        "id": "iKxCrCzrOidZ"
      },
      "outputs": [],
      "source": [
        "create_config_files(\n",
        "                dir = '/content/darknet/yolov4', \n",
        "                classnames = ['Traffic light', 'Traffic sign'], \n",
        "                backup_path = '/content/drive/MyDrive/NTO/weights/YOLO',\n",
        "                )"
      ]
    },
    {
      "cell_type": "code",
      "execution_count": null,
      "metadata": {
        "id": "ZgU2sjn0NxDR"
      },
      "outputs": [],
      "source": [
        "%cd .."
      ]
    },
    {
      "cell_type": "markdown",
      "metadata": {
        "id": "76_o1ERLNazX"
      },
      "source": [
        "#Darknet installation"
      ]
    },
    {
      "cell_type": "code",
      "execution_count": null,
      "metadata": {
        "colab": {
          "base_uri": "https://localhost:8080/"
        },
        "id": "SBN_zUnFGuW2",
        "outputId": "e9249356-f399-4ffa-be0f-e12118acbe4b"
      },
      "outputs": [],
      "source": [
        "# clone darknet repo\n",
        "!git clone https://github.com/AlexeyAB/darknet"
      ]
    },
    {
      "cell_type": "code",
      "execution_count": null,
      "metadata": {
        "colab": {
          "base_uri": "https://localhost:8080/"
        },
        "id": "xym8_m8CIyXK",
        "outputId": "9a3315f3-a2ea-4e64-c27d-1f10591dc514"
      },
      "outputs": [],
      "source": [
        "# change makefile to have GPU and OPENCV enabled\n",
        "%cd darknet\n",
        "!sed -i 's/OPENCV=0/OPENCV=1/' Makefile\n",
        "!sed -i 's/GPU=0/GPU=1/' Makefile\n",
        "!sed -i 's/CUDNN=0/CUDNN=1/' Makefile\n",
        "!sed -i 's/CUDNN_HALF=0/CUDNN_HALF=1/' Makefile"
      ]
    },
    {
      "cell_type": "code",
      "execution_count": null,
      "metadata": {
        "colab": {
          "base_uri": "https://localhost:8080/"
        },
        "id": "5uloUwmUKF05",
        "outputId": "e0024928-6f36-422c-9280-3cef35dae7e4"
      },
      "outputs": [],
      "source": [
        "# verify CUDA\n",
        "!/usr/local/cuda/bin/nvcc --version"
      ]
    },
    {
      "cell_type": "code",
      "execution_count": null,
      "metadata": {
        "colab": {
          "base_uri": "https://localhost:8080/"
        },
        "id": "q2Jjv0yRKLPe",
        "outputId": "d6c2b647-8e74-4e61-dd90-67f044596f9e"
      },
      "outputs": [],
      "source": [
        "# make darknet (builds darknet so that you can then use the darknet executable file to run or train object detectors)\n",
        "!make"
      ]
    },
    {
      "cell_type": "markdown",
      "metadata": {
        "id": "ikgv38AdKldo"
      },
      "source": [
        "#Download dataset from Roboflow and prepare configuration files"
      ]
    },
    {
      "cell_type": "code",
      "execution_count": null,
      "metadata": {
        "id": "kDo2fyrNDM5C"
      },
      "outputs": [],
      "source": [
        "!mkdir ./yolov4\n",
        "%cd ./yolov4\n",
        "!curl -L \"https://app.roboflow.com/ds/vs91R8q0dR?key=yTHx1rXNSR\" > roboflow.zip; unzip roboflow.zip; rm roboflow.zip"
      ]
    },
    {
      "cell_type": "code",
      "execution_count": null,
      "metadata": {
        "colab": {
          "base_uri": "https://localhost:8080/"
        },
        "id": "o70aWTlNiSX4",
        "outputId": "f6248d50-23af-4d72-8b3a-db284ee70cf6"
      },
      "outputs": [],
      "source": [
        "cat ./train/_darknet.labels"
      ]
    },
    {
      "cell_type": "code",
      "execution_count": null,
      "metadata": {
        "id": "czkaFq7gV1bc"
      },
      "outputs": [],
      "source": [
        "create_darknet_annotations(path = './train.txt', \n",
        "                           dir = './train',\n",
        "                           write_dir = 'yolov4/train'\n",
        "                           )\n",
        "create_darknet_annotations(path = './test.txt', \n",
        "                           dir = './test',\n",
        "                           write_dir = 'yolov4/test'\n",
        "                           )"
      ]
    },
    {
      "cell_type": "code",
      "execution_count": null,
      "metadata": {
        "colab": {
          "base_uri": "https://localhost:8080/",
          "height": 34
        },
        "id": "fxP_vfmPWRvp",
        "outputId": "519201a2-d4f7-4cfd-a445-e0d50d5d4c1c"
      },
      "outputs": [],
      "source": [
        "create_config_files(\n",
        "                dir = '/content/darknet/yolov4', \n",
        "                classnames = ['crosswalk',\n",
        "                                'green_light',\n",
        "                                'parking',\n",
        "                                'red_light',\n",
        "                                'stop',\n",
        "                                'yellow_light'], \n",
        "                backup_path = '/content/drive/MyDrive/NTO/weights/YOLO',\n",
        "                )"
      ]
    },
    {
      "cell_type": "code",
      "execution_count": null,
      "metadata": {
        "id": "Nt7r78WEWxu9"
      },
      "outputs": [],
      "source": [
        "!cp /content/darknet/cfg/yolov4-tiny.cfg ./"
      ]
    },
    {
      "cell_type": "code",
      "execution_count": null,
      "metadata": {
        "colab": {
          "base_uri": "https://localhost:8080/"
        },
        "id": "4CIly-ejkh7y",
        "outputId": "20df106a-c80e-4a01-ec50-3fb59f2cff2b"
      },
      "outputs": [],
      "source": [
        "!ls"
      ]
    },
    {
      "cell_type": "code",
      "execution_count": null,
      "metadata": {
        "id": "vqDWcqIxWode"
      },
      "outputs": [],
      "source": [
        "!wget https://github.com/AlexeyAB/darknet/releases/download/darknet_yolo_v4_pre/yolov4-tiny.conv.29\n",
        "%cd .."
      ]
    },
    {
      "cell_type": "markdown",
      "metadata": {
        "id": "qaONUTI2l4Sf"
      },
      "source": [
        "# How to Train Your Own YOLOv4 Custom Object Detector!\n",
        "Now comes the time to create your own custom YOLOv4 object detector to recognize any classes/objects you want!\n",
        "\n",
        "This requires a couple tricks and tips so make sure to follow along closely with the rest of the tutorial.\n",
        "\n",
        "In order to create a custom YOLOv4 detector we will need the following:\n",
        "\n",
        "*   Labeled Custom Dataset\n",
        "*   Custom .cfg file\n",
        "*   obj.data and obj.names files\n",
        "*   train.txt file (test.txt is optional here as well)"
      ]
    },
    {
      "cell_type": "markdown",
      "metadata": {
        "id": "-XD-je3J15Ud"
      },
      "source": [
        "#### Training Dataset\n",
        "I ran the following commands within the toolkit to create my custom training dataset. I chose to use 1500 images within my dataset but the general rule is the more images the better for higher accuracy of your model. \n",
        "```\n",
        "python main.py downloader --classes 'Vehicle registration plate' --type_csv train --limit 1500\n",
        "```\n",
        "**Note: If you are training a detector for multiple classes add '--multiclasses 1' to the command above to have all your training images saved together in one folder.**\n",
        "\n",
        "This creates a folder with 1500 images of 'Vehicle registration plates' (license plates) for us to train our custom object detector with."
      ]
    },
    {
      "cell_type": "markdown",
      "metadata": {
        "id": "c7BeRTgCopdg"
      },
      "source": [
        "#### Validation Dataset\n",
        "**Note:** Having a validation dataset is optional but highly recommended.\n",
        "\n",
        "We want to have a validation dataset in order to properly test our custom object detector after it is trained. We can take advantage of the OIDv4_Toolkit as it has seperate images for validation to make sure we have different images and not ones that are in our training dataset.\n",
        "\n",
        "We can run the same commands above but for validation. I recommend having a validation dataset size that is roughly 20-30% of your training dataset size.\n",
        "Since I chose 1500 images for my training data this means I will have a validation size of 300 images. (20% of 1500 = 300)\n",
        "\n",
        "```\n",
        "python main.py downloader --classes 'Vehicle registration plate' --type_csv validation --limit 300\n",
        "```\n",
        "#### Now you have a proper validation dataset to test your custom object detector after training!\n"
      ]
    },
    {
      "cell_type": "markdown",
      "metadata": {
        "id": "nWZqyTvxdZW1"
      },
      "source": [
        "#### Cfg File\n",
        "\n",
        "\n",
        "I set my **max_batches = 6000**, **steps = 4800, 5400**, I changed the **classes = 1** in the three YOLO layers and **filters = 18** in the three convolutional layers before the YOLO layers.\n",
        "\n",
        "How to Configure Your Variables:\n",
        "\n",
        "width = 416\n",
        "\n",
        "height = 416\n",
        "**(these can be any multiple of 32)**\n",
        "\n",
        "max_batches = (# of classes) * 2000\n",
        "**(but no less than 6000 \n",
        "\n",
        "steps = (80% of max_batches), (90% of max_batches)\n",
        "\n",
        "filters = (# of classes + 5) * 3\n",
        "\n"
      ]
    },
    {
      "cell_type": "markdown",
      "metadata": {},
      "source": [
        "#### obj.data\n",
        "1. classes = 1\n",
        "2. train = data/train.txt\n",
        "3. valid = data/test.txt\n",
        "4. names = data/obj.names\n",
        "5. backup = /backup\n",
        "\n",
        "#### obj.names\n",
        "1. crosswalk\n",
        "2.  green_light\n",
        "3.  parking\n",
        "4.  red_light\n",
        "5.  stop\n",
        "6.  yellow_light"
      ]
    },
    {
      "cell_type": "markdown",
      "metadata": {
        "id": "nrkC4l-PbmNS"
      },
      "source": [
        "# Step 4: Download pre-trained weights for the convolutional layers.\n",
        "This step downloads the weights for the convolutional layers of the YOLOv4 network. By using these weights it helps your custom object detector to be way more accurate and not have to train as long. You don't have to use these weights but trust me it will help your modle converge and be accurate way faster. USE IT!"
      ]
    },
    {
      "cell_type": "markdown",
      "metadata": {
        "id": "m-HY1Xq8A9I2"
      },
      "source": [
        "\n",
        "\n",
        "```\n",
        "!./darknet detector train <path to obj.data> <path to custom config> <path to weights> -dont_show -map\n",
        "```\n",
        "\n"
      ]
    },
    {
      "cell_type": "markdown",
      "metadata": {
        "id": "3N4c0YWPA0iT"
      },
      "source": [
        "\n",
        "\n",
        "```\n",
        "function ClickConnect(){\n",
        "console.log(\"Working\"); \n",
        "document\n",
        "  .querySelector('#top-toolbar > colab-connect-button')\n",
        "  .shadowRoot.querySelector('#connect')\n",
        "  .click() \n",
        "}\n",
        "setInterval(ClickConnect,60000)\n",
        "```\n",
        "\n"
      ]
    },
    {
      "cell_type": "code",
      "execution_count": null,
      "metadata": {
        "colab": {
          "base_uri": "https://localhost:8080/"
        },
        "id": "imc0NP19hLuq",
        "outputId": "7c58bc1f-d8a9-40a6-ce35-9e9de329aab1"
      },
      "outputs": [],
      "source": [
        "# train your custom detector! (uncomment %%capture below if you run into memory issues or your Colab is crashing)\n",
        "# %%capture\n",
        "!./darknet detector train  \\\n",
        "                    ./yolov4/obj.data \\\n",
        "                    ./yolov4/yolov4-tiny.cfg \\\n",
        "                    ./yolov4/yolov4-tiny.conv.29 \\\n",
        "                    -dont_show -map"
      ]
    },
    {
      "cell_type": "markdown",
      "metadata": {
        "id": "5GjIkYFjhnYL"
      },
      "source": [
        "After training, you can observe a chart of how your model did throughout the training process by running the below command. It shows a chart of your average loss vs. iterations. For your model to be 'accurate' you should aim for a loss under 2."
      ]
    },
    {
      "cell_type": "code",
      "execution_count": null,
      "metadata": {
        "colab": {
          "base_uri": "https://localhost:8080/",
          "height": 574
        },
        "id": "uXPGYKmchv7Z",
        "outputId": "2a451676-bca6-4505-ef94-a079ce99f1a9"
      },
      "outputs": [],
      "source": [
        "# show chart.png of how custom object detector did with training\n",
        "imShow('chart.png')"
      ]
    },
    {
      "cell_type": "markdown",
      "metadata": {
        "id": "8dfPY2h39m-T"
      },
      "source": [
        "# Step 7: Run Your Custom Object Detector!!!\n",
        "You have done it! You now have a custom object detector to make your very own detections. Time to test it out and have some fun!"
      ]
    },
    {
      "cell_type": "code",
      "execution_count": null,
      "metadata": {
        "colab": {
          "base_uri": "https://localhost:8080/"
        },
        "id": "18pvR3EZXk4Q",
        "outputId": "44a0ec30-d75e-4798-c2a9-c6170469d12b"
      },
      "outputs": [],
      "source": [
        "%cd .."
      ]
    },
    {
      "cell_type": "code",
      "execution_count": null,
      "metadata": {
        "colab": {
          "base_uri": "https://localhost:8080/",
          "height": 1000
        },
        "id": "o7IIzEal90dA",
        "outputId": "52d7993d-4f0c-4cdd-e737-bc49f4052aad"
      },
      "outputs": [],
      "source": [
        "# run your custom detector with this command (upload an image to your google drive to test, thresh flag sets accuracy that detection must be in order to show it)\n",
        "!./darknet detector test \\\n",
        "                        ./yolov4/obj.data \\\n",
        "                        ./yolov4/yolov4-tiny.cfg  \\\n",
        "                        /content/drive/MyDrive/NTO/weights/YOLO/yolov4-tiny_best.weights \\\n",
        "                        ./yolov4/train/0_jpg.rf.17c258a77f845705171dc523f74dcf16.jpg\n",
        "imShow('predictions.jpg')"
      ]
    }
  ],
  "metadata": {
    "accelerator": "GPU",
    "colab": {
      "collapsed_sections": [
        "dA5j5MTLNaR2",
        "76_o1ERLNazX"
      ],
      "machine_shape": "hm",
      "name": "SignsDetection.ipynb",
      "provenance": []
    },
    "kernelspec": {
      "display_name": "Python 3",
      "name": "python3"
    }
  },
  "nbformat": 4,
  "nbformat_minor": 0
}
