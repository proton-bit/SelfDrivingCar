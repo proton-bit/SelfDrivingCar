{
  "cells": [
    {
      "cell_type": "markdown",
      "metadata": {
        "id": "06zh7SmsOyey"
      },
      "source": [
        "**Check That GPU installed and Connect drive for weights backup**"
      ]
    },
    {
      "cell_type": "code",
      "execution_count": null,
      "metadata": {
        "colab": {
          "base_uri": "https://localhost:8080/"
        },
        "id": "L0U_gJsIOwx-",
        "outputId": "98e5a383-ff3d-46de-e650-4581abf126b1"
      },
      "outputs": [],
      "source": [
        "from google.colab import drive\n",
        "drive.mount('/content/drive')"
      ]
    },
    {
      "cell_type": "code",
      "execution_count": null,
      "metadata": {
        "colab": {
          "base_uri": "https://localhost:8080/"
        },
        "id": "VWA6M8k5CPdw",
        "outputId": "13beba33-89b8-4de4-e703-50a1f700e29a"
      },
      "outputs": [],
      "source": [
        "!nvidia-smi"
      ]
    },
    {
      "cell_type": "markdown",
      "metadata": {
        "id": "7X9eSYSwfU9S"
      },
      "source": [
        "#Define helper functions"
      ]
    },
    {
      "cell_type": "code",
      "execution_count": null,
      "metadata": {
        "id": "0No3aRNwfZB9"
      },
      "outputs": [],
      "source": [
        "# define helper functions\n",
        "def imShow(path):\n",
        "  import cv2\n",
        "  import matplotlib.pyplot as plt\n",
        "  %matplotlib inline\n",
        "\n",
        "  image = cv2.imread(path)\n",
        "  height, width = image.shape[:2]\n",
        "  resized_image = cv2.resize(image,(3*width, 3*height), interpolation = cv2.INTER_CUBIC)\n",
        "\n",
        "  fig = plt.gcf()\n",
        "  fig.set_size_inches(18, 10)\n",
        "  plt.axis(\"off\")\n",
        "  plt.imshow(cv2.cvtColor(resized_image, cv2.COLOR_BGR2RGB))\n",
        "  plt.show()\n",
        "\n",
        "# use this to upload files\n",
        "def upload():\n",
        "  from google.colab import files\n",
        "  uploaded = files.upload() \n",
        "  for name, data in uploaded.items():\n",
        "    with open(name, 'wb') as f:\n",
        "      f.write(data)\n",
        "      print ('saved file', name)\n",
        "\n",
        "# use this to download a file  \n",
        "def download(path):\n",
        "  from google.colab import files\n",
        "  files.download(path)\n",
        "\n",
        "def correct_name(string):\n",
        "    string = string.split()\n",
        "    classname = [f\"{string[0]}_{string[1]} \"]\n",
        "    coords = [f'{x} ' for x in string[2:]]\n",
        "    bbox = ''.join(classname + coords) + '\\n'\n",
        "    return bbox\n",
        "\n",
        "def rewrite_annotations(current_dir):\n",
        "    for filename in os.listdir(current_dir):\n",
        "        with open(os.path.join(current_dir, filename), 'r') as f:\n",
        "            out_string = ''.join([correct_name(string) for string in f.readlines()])\n",
        "            with open(os.path.join(current_dir, filename), 'w') as fw:\n",
        "                fw.write(out_string)\n",
        "\n",
        "import os\n",
        "import tqdm.notebook\n",
        "\n",
        "def create_darknet_annotations(path, dir, write_dir):\n",
        "    '''\n",
        "    Arguments: \n",
        "\n",
        "    path : str : path to annotation file\n",
        "    dir : str : path to directory. with image\n",
        "    write_dir : str : path to directory which \n",
        "                u want to write in annotations\n",
        "    \n",
        "    Returns: \n",
        "    \n",
        "    Path to annotation file\n",
        "    '''\n",
        "    filenames = os.listdir(dir)\n",
        "    img_filenames = ['./'+os.path.join(write_dir, filename) + '\\n' for filename in tqdm.notebook.tqdm(list(filenames), total = len(filenames))\n",
        "                     if filename.endswith('.jpg')]\n",
        "    with open(path, 'w') as af:\n",
        "        af.write(''.join(img_filenames))\n",
        "\n",
        "def create_config_files(\n",
        "                    dir, \n",
        "                    classnames, \n",
        "                    backup_path,\n",
        "                    ):\n",
        "    '''\n",
        "    Arguments:\n",
        "\n",
        "    dir : str : directory to write config files\n",
        "\n",
        "    Returns:\n",
        "\n",
        "    output directory\n",
        "    '''\n",
        "\n",
        "    if not os.path.isdir(backup_path):\n",
        "        os.mkdir(backup_path)\n",
        "\n",
        "    names_file = os.path.join(dir, 'obj.names')\n",
        "    data_file = os.path.join(dir, 'obj.data')\n",
        "    train_path = os.path.join(dir, 'train.txt')\n",
        "    valid_path = os.path.join(dir, 'test.txt')\n",
        "\n",
        "    with open(names_file, 'w') as fn:\n",
        "        fn.write(''.join(classname + '\\n' for classname in classnames))\n",
        "    \n",
        "    with open(data_file, 'w') as fd:\n",
        "        fd.write(f'classes = {len(classnames)}\\ntrain = {train_path}\\nvalid = {valid_path}\\nnames = {names_file}\\nbackup = {backup_path}')\n",
        "    \n",
        "    return dir"
      ]
    },
    {
      "cell_type": "markdown",
      "metadata": {
        "id": "dA5j5MTLNaR2"
      },
      "source": [
        "#Download dataset from OID"
      ]
    },
    {
      "cell_type": "code",
      "execution_count": null,
      "metadata": {
        "id": "UltJdMQANrXD"
      },
      "outputs": [],
      "source": [
        "!git clone https://github.com/theAIGuysCode/OIDv4_ToolKit.git\n",
        "%cd OIDv4_ToolKit\n",
        "!pip install -r requirements.txt"
      ]
    },
    {
      "cell_type": "code",
      "execution_count": null,
      "metadata": {
        "id": "YreLO_8KNtUx"
      },
      "outputs": [],
      "source": [
        "!python main.py downloader --classes 'Traffic_light' 'Traffic_sign' --type_csv train --limit 1500 --multiclasses 1"
      ]
    },
    {
      "cell_type": "code",
      "execution_count": null,
      "metadata": {
        "id": "4lLiGvedNuxs"
      },
      "outputs": [],
      "source": [
        "!python main.py downloader --classes Traffic_light Traffic_sign --type_csv validation --limit 500 --multiclasses 1"
      ]
    },
    {
      "cell_type": "code",
      "execution_count": null,
      "metadata": {
        "id": "WgG4peHMN8eN"
      },
      "outputs": [],
      "source": [
        "os.rename('./OID/Dataset/train/Traffic light_Traffic sign',\n",
        "          './OID/Dataset/train/Traffic_light_Traffic_sign')\n",
        "\n",
        "os.rename('./OID/Dataset/validation/Traffic light_Traffic sign',\n",
        "          './OID/Dataset/validation/Traffic_light_Traffic_sign')"
      ]
    },
    {
      "cell_type": "code",
      "execution_count": null,
      "metadata": {
        "id": "YX11whGtOB6-"
      },
      "outputs": [],
      "source": [
        "with open('./classes.txt', 'w') as f:\n",
        "    f.write('Traffic_light\\nTraffic_sign')"
      ]
    },
    {
      "cell_type": "code",
      "execution_count": null,
      "metadata": {
        "id": "yqOgJm7wOLX9"
      },
      "outputs": [],
      "source": [
        "train_dir = './OID/Dataset/train/Traffic_light_Traffic_sign/Label'\n",
        "val_dir = './OID/Dataset/validation/Traffic_light_Traffic_sign/Label'"
      ]
    },
    {
      "cell_type": "code",
      "execution_count": null,
      "metadata": {
        "id": "acS5AacnOP9n"
      },
      "outputs": [],
      "source": [
        "rewrite_annotations(train_dir)\n",
        "rewrite_annotations(val_dir)"
      ]
    },
    {
      "cell_type": "code",
      "execution_count": null,
      "metadata": {
        "id": "ZWkCr28UOSqq"
      },
      "outputs": [],
      "source": [
        "!python convert_annotations.py"
      ]
    },
    {
      "cell_type": "code",
      "execution_count": null,
      "metadata": {
        "id": "so3JTmszOeBs"
      },
      "outputs": [],
      "source": [
        "create_darknet_annotations(path = './train.txt', \n",
        "                           dir = './train',\n",
        "                           write_dir = 'yolov4/train'\n",
        "                           )\n",
        "create_darknet_annotations(path = './test.txt', \n",
        "                           dir = './test',\n",
        "                           write_dir = 'yolov4/test'\n",
        "                           )"
      ]
    },
    {
      "cell_type": "code",
      "execution_count": null,
      "metadata": {
        "id": "iKxCrCzrOidZ"
      },
      "outputs": [],
      "source": [
        "create_config_files(\n",
        "                dir = '/content/darknet/yolov4', \n",
        "                classnames = ['Traffic light', 'Traffic sign'], \n",
        "                backup_path = '/content/drive/MyDrive/NTO/weights/YOLO',\n",
        "                )"
      ]
    },
    {
      "cell_type": "code",
      "execution_count": null,
      "metadata": {
        "id": "ZgU2sjn0NxDR"
      },
      "outputs": [],
      "source": [
        "%cd .."
      ]
    },
    {
      "cell_type": "markdown",
      "metadata": {
        "id": "76_o1ERLNazX"
      },
      "source": [
        "#Darknet installation"
      ]
    },
    {
      "cell_type": "code",
      "execution_count": null,
      "metadata": {
        "colab": {
          "base_uri": "https://localhost:8080/"
        },
        "id": "SBN_zUnFGuW2",
        "outputId": "e9249356-f399-4ffa-be0f-e12118acbe4b"
      },
      "outputs": [],
      "source": [
        "# clone darknet repo\n",
        "!git clone https://github.com/AlexeyAB/darknet"
      ]
    },
    {
      "cell_type": "code",
      "execution_count": null,
      "metadata": {
        "colab": {
          "base_uri": "https://localhost:8080/"
        },
        "id": "xym8_m8CIyXK",
        "outputId": "9a3315f3-a2ea-4e64-c27d-1f10591dc514"
      },
      "outputs": [],
      "source": [
        "# change makefile to have GPU and OPENCV enabled\n",
        "%cd darknet\n",
        "!sed -i 's/OPENCV=0/OPENCV=1/' Makefile\n",
        "!sed -i 's/GPU=0/GPU=1/' Makefile\n",
        "!sed -i 's/CUDNN=0/CUDNN=1/' Makefile\n",
        "!sed -i 's/CUDNN_HALF=0/CUDNN_HALF=1/' Makefile"
      ]
    },
    {
      "cell_type": "code",
      "execution_count": null,
      "metadata": {
        "colab": {
          "base_uri": "https://localhost:8080/"
        },
        "id": "5uloUwmUKF05",
        "outputId": "e0024928-6f36-422c-9280-3cef35dae7e4"
      },
      "outputs": [],
      "source": [
        "# verify CUDA\n",
        "!/usr/local/cuda/bin/nvcc --version"
      ]
    },
    {
      "cell_type": "code",
      "execution_count": null,
      "metadata": {
        "colab": {
          "base_uri": "https://localhost:8080/"
        },
        "id": "q2Jjv0yRKLPe",
        "outputId": "d6c2b647-8e74-4e61-dd90-67f044596f9e"
      },
      "outputs": [],
      "source": [
        "# make darknet (builds darknet so that you can then use the darknet executable file to run or train object detectors)\n",
        "!make"
      ]
    },
    {
      "cell_type": "markdown",
      "metadata": {
        "id": "ikgv38AdKldo"
      },
      "source": [
        "#Download dataset from Roboflow and prepare configuration files"
      ]
    },
    {
      "cell_type": "code",
      "execution_count": null,
      "metadata": {
        "id": "kDo2fyrNDM5C"
      },
      "outputs": [],
      "source": [
        "!mkdir ./yolov4\n",
        "%cd ./yolov4\n",
        "!curl -L \"https://app.roboflow.com/ds/vs91R8q0dR?key=yTHx1rXNSR\" > roboflow.zip; unzip roboflow.zip; rm roboflow.zip"
      ]
    },
    {
      "cell_type": "code",
      "execution_count": null,
      "metadata": {
        "colab": {
          "base_uri": "https://localhost:8080/"
        },
        "id": "o70aWTlNiSX4",
        "outputId": "f6248d50-23af-4d72-8b3a-db284ee70cf6"
      },
      "outputs": [],
      "source": [
        "cat ./train/_darknet.labels"
      ]
    },
    {
      "cell_type": "code",
      "execution_count": null,
      "metadata": {
        "id": "czkaFq7gV1bc"
      },
      "outputs": [],
      "source": [
        "create_darknet_annotations(path = './train.txt', \n",
        "                           dir = './train',\n",
        "                           write_dir = 'yolov4/train'\n",
        "                           )\n",
        "create_darknet_annotations(path = './test.txt', \n",
        "                           dir = './test',\n",
        "                           write_dir = 'yolov4/test'\n",
        "                           )"
      ]
    },
    {
      "cell_type": "code",
      "execution_count": null,
      "metadata": {
        "colab": {
          "base_uri": "https://localhost:8080/",
          "height": 34
        },
        "id": "fxP_vfmPWRvp",
        "outputId": "519201a2-d4f7-4cfd-a445-e0d50d5d4c1c"
      },
      "outputs": [],
      "source": [
        "create_config_files(\n",
        "                dir = '/content/darknet/yolov4', \n",
        "                classnames = ['crosswalk',\n",
        "                                'green_light',\n",
        "                                'parking',\n",
        "                                'red_light',\n",
        "                                'stop',\n",
        "                                'yellow_light'], \n",
        "                backup_path = '/content/drive/MyDrive/NTO/weights/YOLO',\n",
        "                )"
      ]
    },
    {
      "cell_type": "code",
      "execution_count": null,
      "metadata": {
        "id": "Nt7r78WEWxu9"
      },
      "outputs": [],
      "source": [
        "!cp /content/darknet/cfg/yolov4-tiny.cfg ./"
      ]
    },
    {
      "cell_type": "code",
      "execution_count": null,
      "metadata": {
        "colab": {
          "base_uri": "https://localhost:8080/"
        },
        "id": "4CIly-ejkh7y",
        "outputId": "20df106a-c80e-4a01-ec50-3fb59f2cff2b"
      },
      "outputs": [],
      "source": [
        "!ls"
      ]
    },
    {
      "cell_type": "code",
      "execution_count": null,
      "metadata": {
        "id": "vqDWcqIxWode"
      },
      "outputs": [],
      "source": [
        "!wget https://github.com/AlexeyAB/darknet/releases/download/darknet_yolo_v4_pre/yolov4-tiny.conv.29\n",
        "%cd .."
      ]
    },
    {
      "cell_type": "markdown",
      "metadata": {
        "id": "qaONUTI2l4Sf"
      },
      "source": [
        "# How to Train Your Own YOLOv4 Custom Object Detector!\n",
        "Now comes the time to create your own custom YOLOv4 object detector to recognize any classes/objects you want!\n",
        "\n",
        "This requires a couple tricks and tips so make sure to follow along closely with the rest of the tutorial.\n",
        "\n",
        "In order to create a custom YOLOv4 detector we will need the following:\n",
        "\n",
        "*   Labeled Custom Dataset\n",
        "*   Custom .cfg file\n",
        "*   obj.data and obj.names files\n",
        "*   train.txt file (test.txt is optional here as well)"
      ]
    },
    {
      "cell_type": "markdown",
      "metadata": {
        "id": "-XD-je3J15Ud"
      },
      "source": [
        "#### Training Dataset\n",
        "I ran the following commands within the toolkit to create my custom training dataset. I chose to use 1500 images within my dataset but the general rule is the more images the better for higher accuracy of your model. \n",
        "```\n",
        "python main.py downloader --classes 'Vehicle registration plate' --type_csv train --limit 1500\n",
        "```\n",
        "**Note: If you are training a detector for multiple classes add '--multiclasses 1' to the command above to have all your training images saved together in one folder.**\n",
        "\n",
        "This creates a folder with 1500 images of 'Vehicle registration plates' (license plates) for us to train our custom object detector with."
      ]
    },
    {
      "cell_type": "markdown",
      "metadata": {
        "id": "c7BeRTgCopdg"
      },
      "source": [
        "#### Validation Dataset\n",
        "**Note:** Having a validation dataset is optional but highly recommended.\n",
        "\n",
        "We want to have a validation dataset in order to properly test our custom object detector after it is trained. We can take advantage of the OIDv4_Toolkit as it has seperate images for validation to make sure we have different images and not ones that are in our training dataset.\n",
        "\n",
        "We can run the same commands above but for validation. I recommend having a validation dataset size that is roughly 20-30% of your training dataset size.\n",
        "Since I chose 1500 images for my training data this means I will have a validation size of 300 images. (20% of 1500 = 300)\n",
        "\n",
        "```\n",
        "python main.py downloader --classes 'Vehicle registration plate' --type_csv validation --limit 300\n",
        "```\n",
        "#### Now you have a proper validation dataset to test your custom object detector after training!\n"
      ]
    },
    {
      "cell_type": "markdown",
      "metadata": {
        "id": "SWjNcjfcXKgx"
      },
      "source": [
        "# Step 3: Configuring Files for Training\n",
        "This step involves properly configuring your custom .cfg, obj.data, obj.names, train.txt and test.txt files.\n",
        "\n",
        "It is important to configure all these files with extreme caution as typos or small errors can cause major problems with your custom training."
      ]
    },
    {
      "cell_type": "markdown",
      "metadata": {
        "id": "nWZqyTvxdZW1"
      },
      "source": [
        "## i) Cfg File\n",
        "Copy over the yolov4.cfg to your Google Drive by running the cell below. This will allow us to edit it in a text editor."
      ]
    },
    {
      "cell_type": "markdown",
      "metadata": {
        "id": "YQUDXrhJekxl"
      },
      "source": [
        "\n",
        "I set my **max_batches = 6000**, **steps = 4800, 5400**, I changed the **classes = 1** in the three YOLO layers and **filters = 18** in the three convolutional layers before the YOLO layers.\n",
        "\n",
        "How to Configure Your Variables:\n",
        "\n",
        "width = 416\n",
        "\n",
        "height = 416\n",
        "**(these can be any multiple of 32)**\n",
        "\n",
        "max_batches = (# of classes) * 2000\n",
        "**(but no less than 6000 \n",
        "\n",
        "steps = (80% of max_batches), (90% of max_batches)\n",
        "\n",
        "filters = (# of classes + 5) * 3\n",
        "\n"
      ]
    },
    {
      "cell_type": "markdown",
      "metadata": {
        "id": "a4b33o9EiHUD"
      },
      "source": [
        "## ii) obj.names and obj.data \n",
        "Create a new file within a code or text editor called **obj.names** where you will have one class name per line in the same order as your classes.txt from the dataset generation step.\n",
        "\n",
        "**NOTE:** You do not want to have spaces in your class name. For this reason I changed \"Vehicle Registration Plate\" to **license_plate**.\n",
        "\n",
        "![image.png](data:image/png;base64,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)\n",
        "\n",
        "Example for multiclass obj.names file:\n",
        "\n",
        "![image.png](data:image/png;base64,iVBORw0KGgoAAAANSUhEUgAAAUkAAAD6CAYAAAAso7XHAAAgAElEQVR4Aeydh1uTyfr3z1+SSg+9995BERSpIkVUQFkFCyq92BV7QUCQbm9gQar0mrbrFnU95d2zZ3fP/vbo2sv3vZ4nCUkgRHBBgQzXNVfC02bmnu985p6SZ/6mra0DLS1tMBgMEogNNEoDLBYblP5JIDZQp4G/EUiSxkFTG0gCSQJHdXCUnSOQJN6jRnmPig0CgSSBpAyE6j4JJAkkCSRJl5sMOajRAIEkgSSBpJoKos7DIOc0wxMlkCSQJJAkkCSepBoNEEgSSBJIqqkgxFvUDG9RXTkTSBJIEkgSSBJPUo0GCCQJJAkk1VQQdR4GOacZXiaBJIEkgSSBJPEk1WiAQJJAkkBSTQUh3qJmeIvqyplAkkCSQJJAkniSajRAIEkgSSCppoKo8zDIOc3wMgkkCSQJJAkkiSepRgMEkgSSBJJqKgjxFjXDW1RXzgSSBJIEkgSSxJNUowECSQJJAkk1FUSdh0HOaYaXSSBJIEkgSSBJPEk1GvhikFwcFISw8LAph6XLlkLfwGD2KnRIIk6cPIldadazFwcB8pyyLXmfpGZ4gn/V4/9ikLzT3Ay+SDjl0N3XCw9Pz9mrZDnn8P4D8Pc7/lOKg+O5EoN//x3/fdiGMC5nSvcovvCVfGdA29wHhUWbYMWbyvYhTFi6LkJmahQMucwZsTeBJIHkVAD6xSCZumEDMrOyphy2bN0KMzOzGakcKgE1TUjqBCTh0R9v8PrXESQQSH5SudgFrMW9rn5cLdsJc12ummcwYe0Tgfrb99F98xScdFlqrp36dhwEkgSScxqSTCYT0w0q4TZTXdhpQpLBZILNZtOBOVNp0LTnMNnwTyqgQXmrqhCexvqYaEsObD0TUHe3Gx2NNQh2NZ8RQFJaIpAkkJzTkJxV4H0KbKYLyU+Jg9yjAnAcBCUWoau3H7erD8JRS3nowtYjHlfv9aCnuQ4rnMxUQHTqnuN4zRFIEkjOaUi2tLVB/OAblWHz1q0qKtOnVQYtc2eExSQgKTkFKSkpSF6biFB/V+iMB5YiJLUM4L8sWnpPMlbHRcHVavykkRWiVychZVUEWKzJx8iMQ1bS8Qa6MqFj6Yqo+DWSdCStQaivA7jj08FkwczVHzHxq5GcIknz2lWx8LIzA0vxWntPrE1OQfxyK3D1DLE0Oh7JVB6T1mCZrzVYTIm9bH2WInFNMh3n2lUxcLE0VAkaPVNHRMaupq9LSU5GfFQwjPSUgcVgMGFk4YKouNWSuFKSkbQ6AYGuVmArpm3a3/UQs+UY2nsHcbf2IHwtDMBgcmEfuBqXWgfQ23IFyYHOyvmfdhwT9UMgSSA5pyF5suQ0zl+6qDLExsX9dUgyWfCK2I7hJ7/gxavXeP3qJV68fIk3b97ixf9+Q0dlJkx1FeAmg2TzUmyt7sPvz57j5YsXePX6Dd69eYWfv+9BrIeVQrpiIfy/18B/+qGlZkwyoPEHUH+3a0LR8f1P+PP5C7x4+Qrv3r3H899+xL4VgUrQij94Gf/vv//Dq1ev8fKl5Nq3b9/gl4d9CHM0kcf/1T68ePcBP3VvQ0nLt/jj2Z+S575/jxe//x2n0n0Qtf0M/vX7M7x4/gIvX7/F+3dv8LOoEd7GOvLnMBiw809C3w//xsvXb/Dq5Qu8evUGb179ie97GrBobKyQCbPArRh89Ct9HZW2ly9f4c2bNxg5VwTeX4QWk6WHyI3F6O7rR+vVU0hevhWN7b3oa72Kla7WfxHCEwFJutsEkFMBJHXNF5u4Gd/1men/dfzXYvjn53jz5y+4WLobidHL4LM4FBtyitH7+Hfg/Uu0H46DlqxySyH5x//7F375Jx8Hc9IRGhyAqMR0VN4V4O2HD/jfgwa4ya5nTA+ST3/+B/iNp5EaH47AkGjsrrmLl+8+4NW/2uHLlk9EZF7qw1BjLfK3fIVlIYuwKCQW+64N4R0+4J/3CuUesBSSf/7vKf7Jb8bWhDAsXrYCReXtePoWePbfv+On/z7DwOX9iA1ZhND4r3CB/y8A7zFYvV7uwTqFofXJU7x//m9cPJmFqJBAhMWuw+krw3j5Dhi+ugs8LQYYRm64+d1/gZe/om7ndoQGB2Jx8Apsyi5CXmosdMfsohpIUypftjHit59BZ/8ghgaHMNDViK2h7uBIveIpPWMa6SCeJAHlVED5xSBpamYKCwuLKQdzc3NwOOO7f5NUSJYhjrb+HR/ev8SN3QHgsBU8RiYLPNON+PrpO7z8rwhxHtJZVSkk8fY3FKywBlOhYnK0bVAjfAp8eIcTabZSL2x6kPz3SANcjeUwZHGdcOPbP4EPz1Gyhj3m2Wnr6UN3nGfK0oqE6A/g7e8jiJFBQArJD68eYpOD7pg3yuZZoZr/C4AP+K3/LAx05M82ttqDn98Cv3/dBF/qOUw9ZNcO48P757hV4AsuW25PbSsftP7wf3j1qxi+jsZgeMbgh/+9xrNv62Gi8EwKXEw1ww3TAhuTA9eQLDT3DGJoaAj9LVUIs9Aby9u0niWzk5pPAkkCyTkNyavXr6Gnv2/Kobm1BW7u7mMwUVthHJdD/NtLvP6pFy485a4lfR9bC5nXH+Pd66fYkRQkeaYUks+E5TBUUbGC0lvx6gPQcma71AubHiQbj66YMKa2oknSFb+wayL8HfyDsS49B4eOnURlVT1+fgG8e/k91snSJoXkHyP7wWIqNAIsHgorv8P7989xaX2YUpy6BtYY/RV4+qgDIdRzLLzQ/PAPvPrPMHxt9MfZ1hInbj4EXv+GQi9HMIyWoP//PQde/IbKXethpisHqtqykKX3o58sOAetx/X2Pgzcv4Gj+WfQ1T+Iuw1H4W6gogw/+ryPp49AkkByTkPydEkJLly6OOVwrroajo6O4yqy6oqgE7QS//jzDf4zfBQ8lZWZg+TMTrx9+wKn0mIkIJGNSd4NVBmH37JzePoOEDfsl0J0epCszZd7dDKoeF19QI9XjkGSpQ33wFS0ff0zXr95i9cvX+LpH//FT//4O/58oxqSP92PG5ukkTyXh4IT3+D96z+QEqOcF219Q7T/49UYJPXcAsH/9RXw4T3evH6N1+PCO2p1/dvfUeLtDGrSxiPtNB7/9ifev3+HZz8/RPXejQh0sQbnLwOLDXuvRFxu7UP3vStIWeQINscQsZkn0NE7gLbzxfBSuTxIdfnL7PuxTwJJAsk5DcmPCfivnLcKicd/nr/FT/3F4OmoqkgcrN3WijdvX6AkbaUyJCf5xY1/aAOevQNGa/fAgIbC9CBZky/vasvyNh6Slr6R+P6Xl3jzv3/ibOFGLF8agkA/LzjZ2qDn3x9UepI/dU4OySQVkGxTgKSx+yI8+O9rPPv3Nzh75hiOnVARju5DlIVkwojJYsPOMxBFlU345ekbGq7PfvkRB9YH/aWJFUuPOFy514OB1kuI87CTj0GydBGevAddfQO4WbkbTuOWB8ns+KmfBJIEknMakjweD0bGxmqDgYEBveB82pXAMxLf/t8rPP/HPTgYaE30DNlcbL/8EO9e/4Ftq70l56We5M+dayZez2Ag9iQfbwBcOpQgPT/zkIxY24hX797i1p50+YQSDWQ7DP4685Bk2Pui/V/P8OLf9+Fso8JOk3qITDCN7ZFZ0oSnr9/jf4/uwMZk4pDBx8uNCVPnYFQ2deP+nfNY7e+gNDwguV8PkZsOo6W7H9dLs2FtOHNdbwJJAsk5DcmGC+fR2t6mNpytrICOzidUCo41qvt/Bt69wPlMT+UxOwYTOvopEPz+Fn/+1ItwC6mHJ4Xk++cPsd5TuWvMtohA9y+vgQ+/Ij9I9jvjiZCkPC0tbW1wOfL7ZUuApuJJxqR04837Nzieu1oOaiYTlqln8fz9JN3tv+BJMthWOHX3ET68e4rzaa7juu3UhAybzgv9Kxh9fVjraClNorBNqMmdP/DmVzHsrQzlaZ4UrspevYnjItTf6kT3nQYEOZtP6o0yWTpYkpSD+z19uFaSBQPFibgpxqUK2ASSBJJzGpIV5ypxs6lRbThx+tSnQZLBgFVkPn58+g5vnv6Esv1bEb7EHy5eAYhLysS9r/+DD6//D7Xbw+QVWwrJV69e4V/DTdi4KgI+Ht4IT/gKVwae4MP71xA35EJ/rFJOhOTitFo8e/0OD5oOgqctmUyZDiSXxJ3An28/4D/8a0iOCoK7zyKs3boL4p/+g+evZgGSDAZsIgvx0/P3eP/sn6jc8xXClvjAxdMX0XFrsffcbQxdOAIzKs9L10AsbMfejGSELvaGi+9iJGUX41/PXuM3USOsDKfjiUpgae2XgrqGCkT5WivBVxXQGAw2gpNzUVO6B768iUMXqu9RhvL4awgkCSTnNCR1dXWhp6enNnySFymFGJPJRXDSHjz+zx94/foNXj5/hv89/RMvX73Gs//7BZcPrgOPozArLIXkP9sKcfebf+PFi+d49vQpff3rl3/i67slcDNT7FJOhGTUsX68+fABv4pqYGIgqcjTgSTH0BX1vU/wip60+RP/e/oMz5/9jt6z69E7C2OSEmhwsSy9DP/47Rnevn2LF7SdnuHFi5f48+nvuHlog6RhWBSL7355Si8ef/HnU/zv2Z94+fIl/vfzA+SusFPRTVYPKDpuJhu6utpTAKTkWZRnqzOD45IEkgSScxqS41v12frf1DEQ69IykJObi9zcXGzfnIZQX9laR4WK7BuGnJxcpMeZgWfuinWbttPX52TtQOqqUBgpLrOhQTwRksZWAcjYkYU1od5jkw/mKzfQz4nwUwCyFOQmMan0uagAuWfENnZBYuoW5OTkIDc7E6nxoeDpsrF6cw6yMzfAVXovw20xMrNzsDnRQWlNJ4OhBf+QVORkbYOLvfLLINhcLaxKz8L2jYmwlD2H/uTAyms50jIyaRvk5mRj+5Y0RC52kXvaDG14BMVgU0YWnWbqmoy0ZPjbjl86pGBTpTjm3nECSQJJAsnZrKQuSfjhzzd4/t0FaHHkkJst2JPnzjxkCSQJJAkkZxGS7mtz8fTNWzy+vknplyoEZjMPs9myKYEkgSSB5IxCUhuu3ovg5eoE94BQlHU8wduXv2H3Sv8pj6nNVmUnz/00MBNIEkgSSM4oJG1R3vIIv//yM3794znef3iH4YvbwNMhXe35CmkCSQJJAskZhSQP8duO4MKly7h8oQHFOxLIWOSM2vfTvMG/AmgCSQJJAsl5Xon/CgDIvR+HLoEkgSSBJIGkwhKej0ND08BKIEkgSSBJIEkgqUYDBJIEkgSSaiqIpnlNJL8TPWkCSQJJAkkCSeJJqtEAgSSBJIGkmgpCPKuJnpWm2YRAkkCSQJJAkniSajRAIEkgSSCppoJomtdE8jvRcyaQJJAkkCSQJJ6kGg0QSBJIEkiqqSDEs5roWWmaTQgkCSQJJAkkiSepRgMEkgSSBJJqKoimeU0kvxM9ZwJJAkkCSQJJ4kmq0QCBJIEkgaSaCkI8q4melabZhECSQHJKkLS0tIKFhQXxOAhQNVADTDCZLBKIDdRq4G+2trawtrbWwApCPClN8xxJfonmP0UDBJLEgyQNJNEA0YAaDRBIqjHOp7Q65B7irRANLCwNEEgSSBIvgmiAaECNBggk1RiHeAQLyyMg5UnK81M0QCBJIEm8CKIBogE1GiCQVGOcT2l1yD3EWyEaWFgaIJAkkCReBNEA0YAaDRBIqjHORI+ACQf3JQg1NwVrWvctrJZ1ol1I/ohNFq4G5hgkdbEkZj12bEtHkJHB3GvdjENwse8Bvulvwhov+88GSjMzMywJDp5W8PDwAIvFmiUbasHdfzliV4TDyEBnluJYuJWOAHV+le0cg6Q5dlXdx5OHAhQ52cy9ysfSwvKcKnz98DG+GbiNeAcLsD+DR5m4ZjVGBPxpheraGujp6c2SDQ2RtOMYGs6dgpONycfjYLLgFb4ZZ86UYGOwx2drXAiM5heM5mp5LThImtj7Iz0nH2uNDT9eeT8FcDrGWLP7PL55/ATi3kas9rAF81OeM417PL28UFBYiIKiqYfklGRwudzZsQFjupBkY9GaQtTW1SAnxh9sJqm8cxUIJF0TtbngIJlRcg2Pf/wap+ysZgkQDLC0dLGu+CK+e/Qjvh1sQoKT5ax7lEwm9TKG6YXZE/w0IclggMlig8PhgMVkzlq5zF5+J1YcEpfm2GTBQXJb6Q08efINTtnPHiSpCsLWN8P6k7fx6MkTiHqakOBoqUGVf/qQJFDRHKgstLL+YpBka+vBwz8Y4RGRiIyIwPLgQFib2E46Jskzd8SikFDJ9ZGRCA9dCndbeZfa1MEDEREROH2tA0+efIfL65MRGRmJsNDFMNGTCVQHjh4BWBYWQZ+jrg9Z5ANTnU/zbti6Rth+5gYe/vgjvhtuQqKr9ax4lGuT1kL0zdcqQ1dvD6ysZqpBYMHQzBYeXj7w8/Ojg5e7M4x1OeMaAGVIcnV4cPXwpq/39fGGi505OEpdaiZ4Jnbw9fWBrTFPzfAED67evvDzcASTyYaxlQO8qP/9fOHt4QxDrYkTUUwmBxa2TvCmr/ODr68v3B2toMOSlTn1yYKZlSt8fbxgqK8DbQOLsTx6e7qCpysdlmDrwdbZA76+fvDz9YG7gyW0lJ4jfSaTBUMLO2na/ODr7QU7CxX5YjLp6zy9Jfak0ubh4gB9rmLayPe5DtUvAkkW2wxFVbcgfPADHj9+hEePHuLh99/i/o161N/umjBxE5CwCZ19o/j2h4d49OgRHj56hMePHoLfdwdxQZLXvC3PPIofHj7E4x9/xJMnT/CYvu4hvh6+jWXODDB41siruIlR0QM8fCiJ89Hjx3j43de4VZYHq08EJUfPCLnnWvHwxycQ991GnI2pGgh8WoUIjwjH1RvXcU1FqKqtgYnJFCZPPjYGyuLAb0UaTpw5i5raOtTV1qKurg61NVUoObYXy9xMFUApg+RpuLgsQ+aBU6iqrkEtdV9dHaoqypCTHAZ9tqzxYcF/+VbU1FVj01IfNRM3PjhwrhYNp3JgH5yCY6UVqKmh0lGPutoqHC7cABs92TMZYOhZYmPufpSdPUfHXStNc825cuSlhEF3DHA6iErej/rqcoTEJ2PPsTOokj63vrYah/M3wNjAGCvTd+HsuWpQz6mvr0dNZSm2rFikDHwmC67L1tFpo/IribMWFWeOIinEUZ43JgfesVtwsqyCvmYsbVWliHb6NB3MdZgs1PR9fkjqGiHn3B08+fEhuq6WIX1NFPwDA7AmrQCNPSJ8/8PjCZCMz9iFtuu12Lk9HVGhAfBeFIrsIxX47tFjDFzcCV0uC3pm1vDy8cbuunt48uQBKleEw9vHG56eTtDXYoBh7ozyOy2oObkbackJWOzjjfCEdFxsGcWPPwhRGOH5yXDTNrLAzrp7ePzkCR70X8FS8/lWCbhwi8xARX09yo7sxKqoYDhaWcHZIwCrN+5AeXUdqkp2w91QSwpKKSRrzuFo+TkczE9HaKAXrO0cERK1BvtPVqC+5iySg2QrFKYJyYrTOFZyAmmJkXBxsILHogjk7DuN+rpq7FjhBZbMSzV2ws5DB7B1/WqEBHrBxtICnotWYM/xCtRVncYyG2NpeqWQrKtF+blS5K2Phqu9Nf3c/CNlaGioxqHs3ThbdhSJ4YGwtXHAkpWpOH2uBnUVh+DN05Y+hwO7oHUoq6tDaXEBVoYGwMbGBkHhCdh76hwaqk8izFayJMrIOQRnqmpRdqgQ0UskaXP3D0F8UhJ8reabPjQ7vZ8dknY+qzH44EeMtlbByUwmPqoQWLDxjkOH4OEESGrr6MJAV0sJYiyeHy4PPMCPolYE6cmfM+mYJIsNA0MetNiKBc6E34Zd+OHxY3SULAdTVvk+5nWNO89kceC6/gi+e/IED7/pRZKvYhx//buWlhaMjY2nFQwMDOiJnqm07lxLVxSXVqHm9G7YGesp2ZnKm19yEeoa6rFvY6DUU5JCsqEe5bvWwoCr0A1mMmHgHYuy2npUH9oEPdpW04RkQx22RjvIYchgwNAnEhU1dajYvx5sltSbZLGhq6czbracCcf4bahvqMOeNTJISyHZUI+j20OhraABA6s4lNQ2oKG2EuuC3BQ8QTYidhxCQ0Mttofr05BkG1kh99hZVJ3eB0cLyTGZfa3c16CspgH7t8RAh8GAa0AqqGVYG6P95c+kbUFNvv11TcjiJZ+zb8vPDsmA3Bt4+OQJzubHTBy/41qj+FL/BEhKhMCGuY0TwmPXYvOWDBTsPIku4fd48n0P1unJFzRPCkkZ2LT14OK3FGuSN2B7diH21l3Hox9/xMDFcKVKOR3xuSfmo1f8PR5+3Y+CxCXQksU1Q5+x8XG439M9rXCmrBS6urpSD0i9kBy9V+NcbT2K1oWDq6ICM7meKD7XgMoTObCj8ySFZO1ZrPVQNR7Kw47j1WioO4EQejx4mpCs2A9XrkK3mopTxwcHK2vQcDoPbLYClKlzHG1Y2LlhybIwrIxbjZSCg2hoaMDhzbbKnmRtBeK8HZVsoqVjin1lDagq3Q93c+U4dVdmo76hAfmrJT9sMLeLQmlNA/ZtiYH2ODvpmVrjYGkdSvdvg7k2A3beUaisqUPJnkz42c7WelX15TodDZNrJ7flZ4dkVEMfnjx5jKJV44ROVz4Vi8mZLJi4R6LsWie++e57fP/993ggFmF0ZAQPqK75FCHJ0dJHcOoedA1/TT/ju2+/gUggwCBfhB9/fPJJkKS8LLfVheB//wgPHwxhd/IScGdhiUtkVKRkPPLmDVybYjh4qBg6OvLGQ10lcA/ORU19LZIj3ZUAIruH2gdmx/FaVJfth5cOJSb5mKTzJIvJV+06i4aGc4hzpa6fJiRP5ci9RVoX1DM8sK9CGZJsrg7cIlJxorQC1dXVqDpXibLSUnocUCUkq8sR6CHzLiWVgqujhz2lDTh7LAf248CntXgTqhUgaeO7A1UNDairrUFVVZVyqK5GfX0Dyg9nwUKfASbHBEmZB1BZU4vaqkoU56bD28kK+lpslTaW2Zp8SsplLtnhs0Oy6KaAHjPMjlBljImQ1DF0RnW7EI++E6JqfxrCl4dicYAvXJ2WobZTPGVIuqQch/CHxxB03cDWVSuxLCQIvp6esNu4k17v+CmepEtiEXpE3+PhN4PITQiacQ/ycwnFK3YXautrkRTmorICU5DMOFKL6vKD8KY9QxkkJ//FTfLeSjQ0lGOFA1XO04ckS9alVgNJp4hNqKytw8l9O7A00A8ebi6wtbaCYXQa7QFO8CSryxEwGSSPZsN+LC6JNrUWpStB0nZZDmoaGnAoPw3xq+JVhuiwAOhJZ69ZHAM4+S5Dxs5jqKlrQF1NJYpzUmDDUaV9cuxz6X268Xx2SAZVdOLHJ09wfIuL0tgXnXAtB5TcGFHqbpstP4mvnzxBW0UWDBRbeq4H6rq+njIkD98R03DOC1L2YI3X5kwfkiwW3BOyMPrdIzz8egC7k4LAHVfBplsQ6q6nFmEbGhp+NFBjl+qeM9k5F99NqKqvQ9aapePG9yQVl8l2wv6KBlQey4Q1nU8pJKtL4G9rNjFOjjUKz9SioeoAPOkymx1IbiiuRl3NKSyzVu4mG0TODiQtHdajor4BRRsjwJlGeVONjIGtD3bsL6XhvWONbGyXgHEyTc6l458dkt6RZ/Dg8RN0NeyEsbaySKzdktD7jfLstkVGLX548gRXD69SqoyWftEYevBoIiRLqMXkD1AZqbwDZFXXD3jypB8bFLvDLD1sPEj9Qmd63W2buEL0fv0DHn03ivxEqoutnI+ZLuDoFdG43Xz3oyFl3TolG001Hfr2vjhVWYvKIzkw1hm/JpIB5xWZqG2ox+71soZNCsmGWhSnLh4XJxN2IetQVd+A0sJo6bjz7EAy+2QDaqsOwlcRWEx9rMqkJlxUjEn+RU9S38IFh8prUXE0H+YG6n/yyWZzJ0zQWLguQ2l1A/ZvjqMnd6ZaPuS62a1fH7PvZ4ekgbU7rnaL8eTR16jZmYJF3q6ws3dGUFgKLnaKIP7+ByVP0nTxTow+fAJh1yWsDvGBrb0DApZGoebuAL59+OMESPoVVNHrJLvPb4e3qxO8A/1hqs/A9otDtAd74Xg6vFzs4eTqi4Rtp9FPTf48mTokXWK2YuDBD7QHuTcl5LN0sWWQvNN8F5MFCqKfCkkGSx8Rmw/QIDyxcxMCPJxgamgIcys7LAqPw8nKGlQcL4SLnsxTlUKyvg7VdZXYHB8Ie2tTGJtZwDsoCsVnqlBbcRzRTrK1laogqYtVeSdQV12OuABzKWjl6ySn0t1O3FlOLwvaujoYVqZGMLN2QGjcVpwqr5oVSDLYeojYtBv1DbU4npcKHw9nmBgZwtTCmv5hRHrBXqzylPRUvAIysD0lGp6uDjCmbGntgMjVu1BdX4/MVb7T8kQ/VonJ+dmF6GeHJIPJhuGyzbg39ACPHj/Ct9+IIRAI8c2DB2g+dxoVl7uVIMnSMUNWRTO+f/gIP3z7DQRC6tpv0VZfhet9E7vbDL0luNr3Pb1I/Rtqgqe/kV5MbuEdh9ahb+iF61+LBBCKvsY3wiFkVlTj+0dTnN22X4Pb/O/w8NtR7FwbPCuTNKoET72ogsfjfTR8anebipOlzUNU2i5UVtWgpvocyktLUX62EtU11ag4uRdLHBR/USKFZFUJojfmofRcFSrPlqOs/Cyqa2pRXVmC1FAXsMcWc6uCpDXyT9eiob4Om2L9pEMv04OkmVsITpRV0RMpFeVlKD9bgYqSIwhKz52VMUnKTmxtI6zNOUovRq+prkJ5GWWnClRVV6OyZB+CpDPkHoHb6dnt6qpzKCsrQ3lFJaqrq3AkOxGGWsrDA6rKnBybXfBNx76fH5LSrpGhgy/Wp29DdnY2snZsR0psCPRZ+giJ3YDszC0IVnyfpL4VVialITMrG9lZmUhLXgkb6hcSqRnI3rERXlzlLqKF23Js3pZFP++JxXwAACAASURBVHvLV/Gw4lEGZ8PGaynStmynj2du24zoRa7gugZie1YW0lc5TOgeqTKkX0I6tsct/iwepKr4Z/UYiwt7j0WIXhmHhIQEJMTFIWyJL3hayvZlMLThERiOhJVR9PskzZz8EBMbT98TuyICHlaG48abVUGSAVufZYhbGQU7Y9mMrzlCqbgjF6tY42mGZTFxSIgKUnhJBhMmDj6Iiokdi9vN2ghMOy/EJyQgzI8n9VA5cPQIRXzsCliaKr+nlM3hYml0AmLCF8NQsdtOAdHKF7EJCQhyl3nQkorLZOvA1S8EK+MkeY6Pi0XY0kCYjnnaVKOjD69FoYgdu2Ylgn1doM0hgJxVDY8rw5mI64tBciYS/yWeQb+JZxYK4kvk5fPFyUZgVC5qayoREeg0bgxz7ngMn88eJM/zydYEkgR4sw4taj1pbNYJ1J47hcUuU1u7OZ8qEUnrwoY+gSSB5KxAkqOlDWtLcxjyjODgFY+T1fU4tSsVZrO8EoAAa2ED60uUL4EkgeSsQNLU1hlHT5/B8aMncK6mDjUl++FlLRsjJBX5S1R2Euen6Y5AkkByViCpa2SG5PRtyMzcgS0b18JtwmTOpwmWVHRit8+tAQJJAslZgeTnFjKJj8BztjRAIEkgSSBJNEA0oEYDBJJqjDNbLRN5LvF6iAbmjwb+ZmPjACsrO9KSEFgSDRANEA2o0MDfbGycYGVlT4yjwjiktZ8/rT0pK1JWs6UBAkkCR9JAEg0QDajRAIGkGuPMVstEnku8HqKB+aMBAkkCSeJFEA0QDajRAIGkGuOQ1n7+tPakrEhZzZYGCCQJJIkXQTRANKBGAwSSaowzWy3TF32uiQvSt2chJydHIWxDuPEX+l01kwnPVenIydoBf3flLTe+qJ00TRckv5M2FBoJSSabC56RCUxNTaCnPf6FsvOr26JjbAEnZ2c4TxIcbC3BZSvkySEc19vuo7enF729/eALRBCL+7HP8QsBislC4rk2iAVDSIsPnFSoXwaYTFC/Qbezs4eBnvYcS5tCmRLAzWrZaBwkDW08sHJVCnbk5qOoIBehnrbj3qI9v8QXsPUERGIxxJOEnqYyOBgp5IlrAEdXN7i7ucN9USTqmvsIJCeDDEcLiScuY6CvG2sifWa1In6ZRkBBF5PZgByHxkDSyNoZK5I3oaCwANkZ6dieXbCgIDnSeh779+2fEAoyVsNEZ5LKYOSIsqYeAsnJQMDVxld1HRDz+7GWQFJjGwmNgaRr9CYUFRUheUUgLIz0sHxd9oKCZH/tpumLmEBSvc0IJNXbZ7LGZYEd1xhI6hk6wMXakC50JouNUAJJMKYMSQ48lq7GmQv3MCoQQiwSQTDUg9pjOVjiKLGprLuoZ2aL+jY+BttqsWiRG1KzT6Gzf4QeDhCO9qFi9ya4mivsWa04Jpm0AmFJBbjeRg0BiCEWjOBaxR4sctQbV1l1EBCTgcrLtzAwJHm2WCyCcKgX50t2YrmnbCtbiQfNM0nAvWEx7l85jiUuQcg/dRGDo0I6jtH+ThRvS4ARW7IVLMPYCeW3eicdvpANa4iEAmyNmsRDX2CQkJWtpn5qDCQVC5hAUlq5pwJJJgtL0g+hZ1gAwcgArlWX4vChE2hs6YZAJMJQ53lE2sknv2hItvMxMtiL5o5OCAV8DHTewfVrTegf4kMsEqKxLBNmHGkaZJAU8nGruRlDfAGGOptx5cp1dNNwFaHr4l7YjG1PS91nhb1VzRga6Ed35z1cvXgJly/fRGfvIIQiEUa6LyPGSrYDIwM0JEfEGBnqRkfnIASjg2huuo7rjc0YpiauBEM4usFVMjZtYIWsY+dw6eIlXLp0BW29IxCLBGi5fUNyjDpOhQsXsCqAQFKxXi3U7wSSC2TiZqjxBFYlrJoQwgLdwJ3Ms5kCJI2cluJmzwiEg23YFOUKtuxZ2nbIOHYTfJEYl49tgZ50Bl0GSdrjGrmP4i2R0JPuM22xJAm3+gQQDLQgxtNC4h3KIEl5jsIRNBxOg52RZLMwbbdY3B0SQzDShbWL9RW8SV14BQbAzlhPadKNa+6K/TckXuCJzJCx62WQpNI0ev86UsM9waX22mHpImzvBXriq+PCfljI8ib7JN3tMRsuVABOJV8EkgsEkpSHJhAIJoQbp7Im7Cc9JowpQDJwfQVGxWLcOp0Dg3F7Rlt6BqN1UIih1lpYGEuWyIxBUjCAw8l+4Ch6gFpGyCy9A5F4GCURfhLAjUFSiKvHNoKnLe320qBiYc/1YYj4Q9gU46yywnK4WjDgGcHISBKW5JyHQCzGlSOboSeFnQySwqFOpIe4giWDIIMBfdMs3BeL0XurFO4Kx2kbEUiqtPmYfsbba4H+TyC5QCA5cvs0EhMTJ4SIxR7Qmky8U4DkuqpOUON9l0/vRFzMSqxUCPGpGbjXx4e47zaszSWL0WWQFPTehr+z8bhKpot1+XUQioW4nL8ETMqbk0FyknWSu65KILl5PCR1HZCUkY8TpeW4cr0JTU2ScK9jgPYMrx3fDgNpvmWQHGg7D19L5S6yPm8HOilI3i6Fx3g7EUiOKz9l22kKLAkkFwgkZ2t2O/fiID2JIRIJIRRODPQazSlDUgfJuVUQiv4aJLWM3HH8cjs9/jjc044bVy/j4sWLdLjRRiCpKfD6XPkkkCSQVLtOMrFC4klWHslEUFCQ6hDoC22uZPJGrSfJNMCmvVchEo+iKjFQubs9DU/SI+U0RoRi9N2pRaiPHXS15JM07ltq6O428SQ10+ubDXASSBJIqoVkYNo5enLm2rEd0Bs3JqlKkOogyTV0xqlbfRAO38daPwdJV+4Tutt+x5po7/byoS1j445UWlg6JkgovgGhWIwZgSRHC6nnWunZ7+y4xUqTRKryTo4tTDBrDiSZLLBYksDmcCWLyQtzEeZtB7b0OIvFnHdjMLKfJQ7UbQGHw5kQ2GyWUuVmMlnya8xcpGsC+3HAxW7sOFvBDmbuy+lxR2qNY0luAix1FOPQhpVPOFZHLh6bQZdD8g4WuZuDw2aDzWaDo2OBtCNXMCoUo/3CIdjpSr2/T4Ck785LNAjvXzsNa2NdOt086yU4XHMTw0Lqt+gzBEkmF3Hb6yEQi9B3vQSeRtpSG2nDOmgVFrssTCgQ2CuXq8ZA0twjBtm5ecijQz4KCovoX+AU5OdLj+UhOcobnPGD93P8fxkkqcXdba1tE8KNqr2w4ckL3XfFOty9J72urRNDowKIxUL0dXZK772Ho3HL5Et9GLoISdmPjkHqOjGEo4Nob2tHW6vkXmpM8sK+jdCR2kkGSXoJ0Gg/mm9eQ33dBbR2D4Aa1+y8cRaRbrryxugTIGnutApNPZJF5PxBau1jD0Qiar3jAJrq74E/U5BkMGDpGY2bXbLF8MPobG9DV+8wyGJyuaYWOlQ1BpKmblHYun07tqsJieFe8w6S3ql70N7ePmm4WVsMWwVI+sWsR3Pr5Ne3t7fgRHyoAiSpGWguzJz9UHiiBndbWiVxtbXg1vWLOLBjLaz0dca81TFICvno7OwYS1fzzUsoWB8Js/Fv02GysOLYJbS33kFS1MSXSGRW3EV7yx2khEm75xSMWWyY+UbjZP0NtFF5b2vFleoTiPZ3gbtnIW61t+Pc7g3Ql4Jb3ygKF5rbcfvyGXiaKVduXYONuNbejsa6YriobBDZMLXxwd6S87gntVtbcxNK92+Bk77ysxY6LDQ1fxoDSU0t4M+dbxkkVS8BIlD53OVB4vvrmiOQVOk9/HXDaqo4CSSJdhaa9gkkCSTl44MzYAsCSQJJAskZqEgLzYgkP3IwEEjKbUF0sTBsQTxJAv0Z9SRZHC4cXD3h6e4CXW35Im8CjIUBDE0sRwJJAskZhaQmViKS54XdABBIEkgSSBINEA2o0QCBpBrjEA9hYXsIpHxJ+U5FAwSSBJLEiyAaIBpQowECSTXGmUorQ64h3gjRwMLWAIEkgSTxIogGiAbUaIBAUo1xiIewsD0EUr6kfKeigb/Z2DjAysqOtCQElkQDRANEAyo08DdbW1tYW1sT46gwzlRamfl9DRNsLhdcDnvsLT7zOz/EMyLlN/MaIJDUSDhKhGTiGoWSC024WX8cwRaKW7bOvNCmVXnZhvANjUFSynqkpqbSIWn1SjhJt4iY+CwWrN0XY9WalLHr1yetxXJvyeZkE6//wvnTYM3Nx7LQOEiyudrQNzAAj8cDz8AAOlqcBeJFsaBrYARzCwtYWlpKgoU5TAwNwFF407iiSH32X6N3FqReuns+R+F9jV+wEnNNHLHnXBP9MmChUAD+KB98vhAiYQe2GOhN6PEwmVoIX38YXf3D9EZlfD6fvofatOzGQdcJ1yvmn3wnjcVUNKA5kGRrwdknBKvXpyM3v5B+K3lRQR62bkjCEi/befeyXcXCZfPMsHbLTtReuyt907hY8hZx/hA67lxBdqStSljYhqWjpZ+P0d47WONrqvIaxXg+x/eYwgsYFYnR13IBW5LjERUVheiYeCStjYOnCk9SyzcVLYMiCEZ6cThvI2KiohEVtQKr1qzFisWGcyJPn8NuJI7ZA77GQNIqIAG5BQXIzNiEdYlxiIiIRlJqGnLyC1GYux0BjibzskJpGdnh4Pl2CEQUKAZxr+k6Ljacx/n6C7h05QaaOzpQvdVDZd6o/W60tLShrcWV7IH9BT1ISSX3RlUHtVXCEAoieFPy8OOKr9ANQtPpFGhN4jETgMweQDTBthoDSY6eKfwD3GHK0x6rfEyWNvyiklBYVITstYvnCCimIWgdE2w+fYXeFEvUfxubVvjATJ8rByJLC6a2DnC2UthT5ouDUE3+bFaiZVgA8fBNRLJZ8nxMmmZD7KxrhVgswMl1RlO4Xk3ck8ZB7tEEEKrLo8ZAcjIjaDsGIa+gEEWZa2DEnF+7JVr7paB9WATBUBu2LbWaGiSco9EyMEqP31HjdpLQi30Ok61wcMCxq/ch7L4BKytbLErciistPRAIhRDwR9B8/jjCHS3BUoCMgb0/Co+cxe2Ofno8kY6DP4rWG3VIiw2E/mR2dl+FzhEBxINXEcSaCiQtcOBiB8TiURyN/xgkWbByD0bB8QvoH5bkXzDcj2uVexHhYQ0Wk8Bwsjqi6cc1HpJs2wAJJLclTF55FQAwlwSz7GAjPfHSXLETplPYE5tOu00wzl6+gVuNt3Cr6S76h/lq991mMBxw/FoXxP1tON5wB0N8EQTDA2i+dRddQ5LtW7tvlMKMpzUGaWpzMr5QBNHwKLpa7tJxdXQPQiQSQzQ6gOINAWPXBidn4/jR45JQdh6D1Jawo104d0x6THruYO56aHPZYHhG4siRY9J7SnCra5j2JO/UlcifQ91TvBch5nJw2gcn4lbXEERiEbpuX0bJidO4ea8LQpEIw903sNZ9nnjbc1SLc6lezHRaNBuSTBacgmJRUFiIrTE+Y93wmTby7DyPh+O3JFudntyxeAw6XDtvhIaGKoVFrgZj55XSYuSIsqaeqUGS3k62H+V7N8Jeume2gd0iXOkchni0E+us5GO6pm7+CPV1gBZbwTtj8xCTUYlhkRhd107BUVtybsOJ6/SYIr0FrVgy4aTq++idEhjocsCI2UEDWNU1Ssf4XUh3knjHHD0rHLh8HyL+EE7nxEBL5jVyTLCmqI5OU+elg7DWUUgvgZFqzWigXTQakrqGDkjdXoCC7C1wt5oEJHNWFB6o7hylAbN7DWdM0CaZlaCXwVBLYaSh8Yj32PlPh+QITq/1gbaix8q0xq6Km+jquoMsSxWz49TEkLYOdHV16WBp54nGPjGGOi/B114CJF1DE1hYWEhCyEZ0jQohHmpEjJWV/LiFBcxNDSVjxtr69DInyT1eOH7tPsRiPs585ap0vYW5GfQ4kjejG/kXoFcoRu/tSnjwlN+WrsWzRE27APz+FoT5yEGvZKc5qwEC9c9RThoLSS1DKySmZ6OoMA8JQY7gyryLeVMhPFAjheSuNfLxO53AFdi0aRMdTtbfpLvjd45P3M+aFte0PMle5Jsbq4btBJtx4BEci20Fe1FaWY+rV67S4fqNRgzyxRi+fxl+Dioq+CyNSfrtuUg3Jh0Xj2JF6HIsVwhhkStw5tYAxCO9iFumehXA56iIJA4Vepigqy9zjQZCkgktA0us/CoThQW5SAx2A5f1ZYz/1yqGEY7dosbjxDi9I0glvOLyTtLjgJ8VkiwulqUfxNAIHyL+CDpb76KpsRGNjY24dfsORoSfH5IJx2/RdhJRi9MVPGzZd6FIDPEogeRf0+N8rENTS7PGQVLb0AaJaZkoKshBXJALdBXHzeZIyzVVsa44fov2FBvLc2HImVjgXwKS+mZOaGgfhWi0D/u/ioedqd7YzLGBqRWu93x+SPrsuUxDsvXScURHR6sOUeGwMiM/Y5yq9jTpOg2CJBM6htZYtSkPhQXZiF3iBs689CDlMLTxyUDniAiCvmbEB058k9OXgKSZTQraR8UY6jgPT1t5WhkMFhz9Q3G3//ND0jhsPwZFYnReOT426aRJlZzkVVGH0/+uMZDUMbJD0uYsFOVnIcLbDlrzHJCU8Nk6ZthZcRdisQhD9xuRmbBYKV9fApIm1mFoHhRDONiKdX6StZtMFhuhG/bgLr0E5/NDUpvniHP3hiASDKH20CbYayuuh2VC39INqxLCwJtnPQkCv+kD71NspjGQXJyUI/m9dmEh8nPzkKcifLVqCbTnW0UxW4RDNU0YpdYXisUYHe5Ha3ML2jqpBd/UkhoRmg7LZ7d9olNw604LWppb0HKvDYOjAlAvuOhpa5Mca76Dw7FLwR6zg3SdpHhqEzdsfVPsrLoreXGGkBqTbEUv9SsasQj9HbfQPST87BM3DAYHnmHb0NwrWQ0gEoyio5WyQSt6h0ZAjUl2XDwAq7E8f57K9ykVltzz+ctGYyC5JCkTOTk5akPqqpD5B0kGAxwdQ7hHrEfZ+Vvo6u3HwMAA+nu7cOfmRRRtSICtqXyhd2B8Grr6BuhrqOsmhh6UrQ5XeOGHHYobmjEw0IJMM/ni7MkrKxO6PDvsOFyLrh5JWrrbbuPojiS4uDij9GY37t+thbd0CZDSc1xjcaerFwMd9Qic0i9uzLCr+jYGBrpxIOYjL7NgcmHm4I5tByvQ1tUjyXd/H7o6mlFxKA/eNqYKDcPnr4hKdiCwVjkR+aVspDGQ/FIGJvES4BANzG8NEEiSVntOtdoEKPMbKAux/AgkCSQJJIkGiAbUaIBAUo1xFmKrSPJEPDWigelpgECSQJJ4EUQDRANqNEAgqcY4pMWdXotL7EXstRA1QCBJIEm8CKIBogE1GiCQVGOchdgqkjwRb49oYHoaIJAkkCReBNEA0YAaDRBIqjEOaXGn1+ISexF7LUQNEEgSSBIvgmiAaECNBggk1RhnIbaKJE/E2yMamJ4GCCQJJIkXQTRANKBGAwSSaoxDWtzptbjEXsReC1EDBJIaDEkmRwuOXgHw97AHh634IlpS2RdiZSd5+jRdE0hqMCSdonajvX8YQ333sN3LgnS5NFgLBKCTA1RzIMlkw8DMBp6+AQgODqZDUGAAHCwNwZynlcPELw5bMzKwPiYEeiry4BIUiYyMDKREmKsEoM/ea5I3iIsFqNtmr/Iaja48TBZsfJchOWU93B1U21Cj7aNCcwvRHn+zkm4CvxAzp5gnnpk7NmfloaAgH3l5ecjLy0chtZVDXi5S44Kgz5HvXa1431z+7ra5BgKxGPcqdsFMhWA/tseNsb0/zjRcx7W6E3Az1yeQHG9DjhbWV7dAONKPtZGT7F0+/h7y/4LT0d+0tXWgpaW94DI2Hm56hrZYGrIYHm6usLe3g529I7x8g5G2PQ9FBbmI8pZsWjX+vrn8/1+F5FzO25xIG1cbX9V1QMwnkJwT5fGFGiCNgSRVyEzm+HEHFhwWr0RBYRF2rA5QcX789XPr/0+CpI4RPH184efnpxC8Yast3wdHsULo6lvB29cPrjbmYDNZMLV1ho+P5F5vdyfoabGVGlgWVwvOnr7w8XSGDpcBbZ4lPLx86Lh8fbxgbaw3yfAGE3rGlnD38oEvlTZfX3h7uMLUYGIDrqNnDx8/P7jYmIHFZMPCzhk+vpI0eblNTJMsP0w2B5b2LmPp9/X1gauDNXQUd87kaMPR3Vtim8DF2HW9G2LBEPK3rlWwlyR9FoaKemBCS98IDs5u8PaW29fHywNWJgbKeebqwdXLBx5OltDSMZbk2ccbVgY6YHK04eDqCT8/X7jamynsNaQHF/q5PjDXU4yX+m4Ed18qTg8YqwAJR8cITm5e8JXaiLItlS5bo3HpUnGvzHaa/KlRkFRV0OY+EcgvLML2BB/NgKTzCrQN8emdFandFSWhH/scrZVgJ7OVR1AuBgRi3DhQgNScE7jT2QchvQujGILhPlwqL4QbV15p9cxsUd/Ox2B7PSJT1qH+eguG+UI6HpFwFO2NtVjtP7Fr774iE+cbW+lrRdJ0CUYGcOtSBWK9eEppc/M7ikGxGJcOF2FTwSncu99P73hI5YU/1IsLJ7fDkjlutp5jja2HzqGlq38s/SKREIPdbajctwmGXCnsjZ1Qfqt3nH1kdpJ/ikQCbI2S55thaIHc8svo6huEQCDZuZJKj5A/jNbGC9i42FkOSgtfXOkcxL2Kvcg4egFDfCFEQgHulWbCdWUB2geoXR1F6G+9inAP2QZnfrjYR9lxEBv9FOKlwRaDJtrGdxE/DnSmHpEoO9+I3iE+RCJp+kUiCPmDqEiJVoDw+GeS/2V1QKMhyWLrIjjuKxTkZyPUbf4NzH+SJ2nsgrSsXOTn5SN/VzHudA9DLP44JAcH+yDgC9HReBFH9u7GrgMnx7ZoLc9bAS2ply6DJH90BEMjIxjpbUXFyQPYVbQXVTc6IBSL0XnlGOwNZB4oE46RaegeEUA40osLZcexu7AQu/YeQn1TBz2xNNJxEcts5aCUQXJooAd8gQhtNxpQvLsIew+fQdsAtX2tAKe2BoMrBQaby8P2I1chFInQ39aIU4f2oyAvH8WnKtHRTzUYQpw/uBo8CvY6xojduF1in4Ii1LUMQCwcRXXpEckxym5UyM1DkJMCSEyssa/qIqorSnHy0F76msKd+1B5vhF8kQiCrgsINJLmmYbkEPr7ejE03IuzR4txs4cP8dA9NHUOo7WhBGer70IoHMHRpDDpLo7ThyTHwBTFV+6Dapwa6ytxcHcR8vMKsGvPAZw4fRp5UUvIDpHjGhUZGBU/NQ6S5o6e8PTygv+iZUjeuAW5+QVYG+YO7Xm4TlAGycH7d3D2dAlKxoULtySQuXN8kkkHI0eUNfVMCZJikQh3zuXAjacr9YhY8AvPQR9fjP47FTA3lHTXZZCkvaie60gMMANb2p3Vt/VATeswRCNd+MrfkfYOmSwDHL85CJFgGMUbo6HPkXmATOgYmqPofDfEIgHqilZDS/ocGSSp402nt8KapyNJE5MD/+ijGBCK0X3zJGyk3WGT5UXoFYgx2HEVYR7GYEkrBpPNhb3PNrSOiCAYaEOU/zhvejpjkiw2eIY8cMfSLwEoV9cGp24P0iDet0Y6pCGFJGWjuxU7YMBlYmttDygbD7TWwdtGF76RqRgS8FG3IVYK++lD0tgyFveGxRhqv4BA23HDKUwm2GxZQ6UA+ylAQxEgmvBd4yAZsbEIRUXykL1lPZb4e8BQh6PUpZsPhS+DJFXZ1IWZgOTAnUq4GyhXNG17L1y5Pwzx4D0sspDsyS2DpGjkPjYvH7esiM3DlqM3IRKPompNIA02lnsmesRiDHXUI0BpjE9Scb2WZWBQIEbf9QPQ15FUahkku6+Vwk5fOU1G9m642c2HoKcRzjZUV5WL9LMttH1qdy4bA6SsfJlcPewovweRaBjH44KVz08HkjK4MNkwNLWDT0AgAqWhoL6Ljr88O0iiMRkkR9oQ7ywZethcTTVWYpRnSTxg74g1GOT/NUjqm/rjUicfopFeFGelwtPWFKwJ4/IEkDItTPapcZDk6uhCV1cXuvo82LkFICVtGwoLC7BjXRj02PNLMDJItlUfhKuxMYzHhZTdZXR3dSYg2V63C4ba4+xj6oqq5j6IRzuRbGVCA0AGSUHvbfg7G49reHSQnFcNoViIy/lL6DFgnbSTNBzuNxSo7PoZ+YSic1AAced5GOhJJnFkkLxbkj9hooJp6YRKqos8cI+e+GAwbHGyiRpjHMW+aN1x6aHyo4VVW6shEAtxbVc02IoQmQYkmSw2bJauRd31FvT09mNoeBjD0jAqHaOsyA1WhmT3FRgb6NDHZJDcuVqyFG0mIMlgaiFiw0F0D4yCHn/t68G9mxeQvz4KVqY8cBQnrGSQJ58TNKJxkBzfWrD0TJGwOR9FRfmIcDOYYKDx18+l/2WQ/NR1koxpdLdVQtLEFVV3pwnJ3CoIRXJIWm4rpSHZWZen0va6XkvRNsiHuPPilCDJsHBChRIknVB6tx9i8Qj2RqqGZPymCghEQlzdE/XJkDQP2Yjm/lF6/PJm9SlkpKUgJUUSTt3so/OoCpJGEyApGW6YEUjSwGPDJTAK6TsPo6m1DwLp5M1Axw0UJAeODYXMJV3PtbRoPCSpAvGIy6C74KuDbVVW1LlWaLL0fGlIajv44VrXCIS9TXAxl0ysqPUk2YbYcfQW3bU9EeEn6W6vOUwviO+/XQJnhVlyWR5dlq5G/6gI/TePTOhuq/IkTez90dQrwOj9K3CyorqyZth/pZuGVGmGtXQ8Ve4RMzm6SD9BpWkEJ2Mn624PIDlqknFdqee16dx9Oo7rp7bCRIuttFJiXVn7DEDSB+d7qNntIaQFyNNP2YnLW4XmSWa3ZXakPF2ulhbMnJdiz9krGBGKIOpvRJiR8nCF7HryKbcxgSTHBHFb8lBUlItgWy6B5LjulmwJkCpP0n31Pnp5UOeVYpjoSbqJ6iCpb7IEFzpH4IPtaAAAF0ZJREFUwe9vQbin5LfiLMNINA2KIRzpxtZQhWUydDq0sO30HdrzrM9PmjBxowqSXmlnMCIUo6V2D8y0JEIPKKqnZ9XvXz8JJ2PlyQod13hc7+VDMNiOlQHjVjhwtLDuzF2IhMM4vGap8njlODvtv0ZNzohxJnOxgoaYMHZdiob2oRmApB7O3KMgKUJBonyCiatnjKySK9IlUBOXAKmCHVPHHxfvU2kawq5QSXdf1XXkmEQ/GgNJrp4RLMwtxoKllTUcnNwRt24rCgvzkRa/aGwZy3wRx6d4knrG5vD28YUvFZbGoOEe1RUdRElMpOSYjw8cTeS/Z5dBsvtmGcKX+MHNxQnOrp5YmpiJe0MiiPm9yI71GvPQZJAUDrZj45pweLu7wcnRGT6Lo3Hiehc9U335yAaYyMZ/mSys2X+R7gaOdl3DxqgQ+Pv6wj9gCTYdaqC9zMGOKwh3l6+tlI1Jdpw/jQh/P7g5O8LZzQuhqYXoHBZCNHwfW8Msx2Cla7gU9e3DEIv4uFWejeDFgXRegyJXo57qmov4uHzkK5iMAx+DwUZ46kmMisQQdN9AakQwvcjdPyAYCdv2YWWg3NtYd6aVHv+9f/0MooP94ecfiBXp+9HaNwqxtIv717rbDCQeaaJh33bpOJYv9oN/4DLsrm6GUDSC4VFq8k4ZkjzDGGzevAYhwUEI8POTlK9fIBI2FqFvVAh+31WE6cwvx+BL1E2NgaTlkiTk5OSMhdy8PBQWFqGoMB/JEb4wGPfLkS9RGNON81MgGZiQjt4B2aTCCARCauGzCPyREelEQz/OrokYW2QsgyTlJQlHR9DX240easG0UATB0H0UrQyErsJkhwyS9Gy7kI+h/j50d/dgeFQAkZCPq8e2wIo3zpvTd8LeunbJyzZEQoyODGNklE//P9x5AxFetkqTOjJIUnEIqDT1SNIkFIowOtCGrEg/aCkCj8mG1fINaOmn1lCKIRTw6bzyqbyLBLh6MhPW49IkKwttY1+U3ZaMKYqEQowMD2OUXvzNV1pMbuIejqYuahG4JE0jI5LF26OdV5FTeXcGPEkGTNyXo6lnZCyOUb6AXjpVUbgKZXepvClD0sy6kF45IBYJ5eUrTZdgpAeZiYvIbLeiTib5rjGQNHJdgpUrV46FmBUrsDTIBxaG87e7YRmajoOHDyN/QywMVBSwb3QyDh06jJwk+VirU8ByHCg+jMOHJwsHkbbYa6xrKYPkUEcTThw9RN936FAxCrZ/BS+biRMhMkiKRvtRfuaEJJ5Dh7B/Zx5WBrmOwVcGIdkntWbRLzIZO/cdkMRx8AByNiXCwWCipyODZH9LE04ckuTjUHEx8retg4fJxJ8xyuLQMXFAypY8HCiW5OPA7kKsWuo5tuhcdt34T66OGRLTcsbuK96/G5vWLIcpR+5JMhhMmLssQWbRPtrmh4sPIGvjKtgac2Eal0HnaUOUs8S75dliW9E+HN61DXpSTy40fRd9zcoAycSNjUcg9h08iE3BvkoNhI5zCLJ37qfjKN63C6tDPWibrs0+iMOHc+GroANtPQ8kb87G/n0HUDxmpwPI354KH1MyFjm+nCf7X2MgOZkByHHFij7xuwySqsYkVdlOBknVS4AmPl/VMz52TAZJVWOSH7uXnJ+ZMtAkOxJIKrS8mlTwU80rgSSBylS1slCvI5AkkByb4FAlcgJJAklVutCkYwSSBJIEkkQDajWgSUBUlVcCSVJB1FYQJpNFvwiBzZ76m9upFydQYeL7O2fGKxtLE2vqaVIlfnJsZspjoduRQJJAUi0kF3oFIPkjoPyYBggkCSQJJIkGiAbUaIBAUo1xPtbCkPPECyEaWPgaIJAkkCReBNEA0YAaDRBIqjEO8RIWvpdAypiU8cc0QCBJIEm8CKIBogE1GiCQVGOcj7Uw5DzxQogGFr4GCCQJJIkXQTRANKBGAwSSaoyz0L0E6s07ti5e8HC2Bocl26Vw4XsGC71cSf5mVsMEkhoMSYfQPDT3DGCg+xbSXcyIN6HBWiBgnRysmgtJrj5cPb3h4+MDL3cX6KrYX2WuC8d1aRzWrFnz8ZCwXMVbtxnw2X9d8qJbsRANmeO2fyXAII0G0QCtAQ2FJBN2vpHIpd5MXlSE3G0bYGUweUsyV2GZVtEBPp8/FgRCag8UMag3aAsUjvO76+GjQvAmzktQfaMZd6+ehbfV/Nopcq6WCUnX/KtHHyszjYQky8gJqTvykZ+dhh058xeSjovCEbsyVhriULD/GgRiEdovHEFinOx4LGIjl8BQBSQ/Jg5yfuFVeFKm0y9TjYMki2OA8PUZKMzbjlA3S6Rsm7+QVBY8E8sTKsEXi3D7RCq0lbYWUBCGlgEcnV3g6uqqEJxgzuWo7V6ytXRhbecIFxfF++Tfbc3Gb7PAhJ6hGRycXOh7XFycYWdlBi3OxAkirq4BnJxdYG9pCOoNP7pG5nB0kqTR2ckBpiq2cFDOu0L+SGOgthyJ3aavFY2DpKVXBHIKCrAuOhC6+jwkaxoknVegbYhPd8uprrkk9GOfo3yb0vEViantjcJTdbjfPywdw5TdJ/+8uEv5foewNFRfbcYwn9poTAyRSIi+zrs4VbAWumxlUNoExaJ3RIhbx9fDLWYrqq+1YITeR1oMIX8YTeePYbGjHqn8pAH4IhrQKEhyeI5IzSpEbkYSbPUYoDwYjYOkqTu2Fe7G3j17sffgcdzrGYZYPDkkmdpmyKm8A5FYiPu3GrArcyvSMwpokAkpyA61Ys/W9YjwkW35yoZFWIZ0a9duVB/fh7SvUpG95zhudw5CJOLjbH4kdFjyFl0Gya62Dgzz+ehpvYHyk4ex78Bx3LzXSwP24q4kaCvcMx7k5H+5PYktZtYWmgNJjj5C125CUd4OLLIzplskjYSkojdi5Iiyph61kLTyWoL2QSFGOy/Cx14+uaNt5IGaDmqiSIi8VXIvks0zx+FLnRALBnBk7VIFsLFg7x2HO/1CjNy/Dn8H+bMkkJR4nC01++BjzRvzGDzCU9DPF2Gw8Qj0dZS3oiUwmFkYEHuqtqfGQNLKMxzZBUVIjQmENltiDALJj0NybI+bhl0w1FEWUXp1J92VPrx12RjUzGwS0DoixmBrPTysxo1T6hojr6YNYkE/8oI8wJQCWwZJfstZOGgrj40aOXhh76FjOFzwFXTm4d7oBDzKmpmP9tAISLKNXJGelY+CjNWw0Ja/8p9A8uOQdPCLQdewGEP3zsFGYU9rFtcBpS3U2KYQRYmWY5C0STiJYbEY/R03sScnBznZiqEQddc7IBIPo2Sp3wRIjjQdgy4B4Zgt5yNQFmKaFzwkmRwdhMSnobAgD0mRQXB3cx8LXj7+SM8qQl5WBpb4UcddYWUwXzdtn+Ls9jS72xwjOxy70gGxWIDG0gIkREdgeWQ88k+dh0AkxkjrGbjpyb0F2/Xl4I9NCMknduSTRNQxAsmFCJOFmqcFD0m2Dg+Jm3LpReMFBQUYHwqLJAvKJcdzEOduMk9b8tmBJNfYHSVNPRDwRzE8yqcXqY/yBRCMDqPtRg2CnZR/zmjlsQd9IjHuXzkJDyMeeDxVwQC6HPn4oqy7TTxJeWOzUIEzH/O14CFJvcTBztkDnp6eE4KPfyA2ZRchPysDSwOp8x6wMdQmkFTwNn0SD2NIKEL14WwsXR6JuLh4xMfFITo8BDZG48YcGQwYWQbgZq8AI91NiHScWoNDIEngOJfhueAhqc74mjgmqcszkS8IDwxHXXMfxOJBnApfKl1c7gIbQ/2x8cLFGfUQiMW4WbYbi3x94OPtAy8Pd/paZ0c7GOuNG57QNkT6icsQikQYabuEr1YugoebG329u6cPFi2LR/6uLNgbycFAICm3hTq9knP/v70zb2vqaMP4NyELIQQImyHiBkEJi4jYUpcWxVcpSqsWqyK0WLEhiSjRy15UC2Jp66uIW1WsbQ2LWlRIINtZvs/9XichC9leoSwnyfPHXJHj5JyZZ+75zTMzT86sjZ0IkikWTF7bdBrvbXOYm53D3JwDDCuE3nBwOxy+a7MzGDr6KeTz3uS68kaM292+gHCWA8uy8Lic3rz26bf4+9ljnG+uRbokKODM/C24PDwJluPBC7Ccv7fTw4LjeNjG72BbQTA/QTJoCwKh+GyR0pCUKZSoP3AEhw/sRV5YeEviiVUC/c5vMHBrED1f70F6jMBr3a796L95C7duxUoD6KyvhmwekgW1TXj21gHXzCR+HhhA/41+b7o5OISHLybgZjiwc6/wuc4XexqwmzwT1ftP4ErfAAYHfc/66cfrMJxtQYk6GGEg5M8v24G+/kH0XzwJhXzh/wXuF7IEQNfEB5JkbpOUhmQyN+zy1E2Jq88d4DgOV8/UQBriLaalSaDMKccNIXCcZzFyIRhQvjzPJhCQHcWhAYIkeShxNqpq8MjGgedYXDq2KQySacjZtBePX82CZ+dg2a2Jcx9xiJ2gQ+2wFA0QJAmSceAmx9khq3dt0T03jdFHI+iz9KDnkgVDd55gatoBjmXw8m4PijKDIT1LESJ9hwAmVg0QJAmScSCZBlWeDl+2X8Ho5Du4PcHgcJZxYuKPhzCcasGWgshQILEKnspFMF6sBgiSBMm4kPQKSiJFukKBjIyMBUmRLodkwToldcDFdkDKL37NECQJkv8fkmQjslEKa4AgmcKNT16M+L0YaqO1byOCJEGSvCTSAGkgjgYIknGMI+ZRXKFQQKVSpUQqLCzEk6e/B5Lw0oxUqTvVc+01TpAkSIoeOATJtQdFKsOaIEmQJEimiEeeyqD7N3UnSCYBJIXQHIlEkrQpKysrMNUWpt1yuRB6lLz1pbqJq20JkkkCSTGvn/7bsgleQOiapCzkhb3/9t70/bXfPRZ7GxAkCZKi39kkSBLI1hKkBEmCJEEyQTWwluBIpWcTJBO0g4SGAAlrkisl2vJdFzDL8Hg90gN1xtp4NORJro3dV0pTiXbflIGkUr0OLSfb0d4ePR39eEPgyIJEaEQBkiX6r/Dk7zGMjY3BarXGSH/hpxO6JUM0cO42QXLJNkwEPVEZYw9EKQPJzHyt79AvQxe+6ehAR1g6+vHGhINkWVUHphwsWA8LRjjBcEFiwXmPdnXjTmv5kjs4QTJ25yGwpIZtUg6SZ1r2IFuhgOCJhaZ0WWIdGyCUPTs7D0Xa9dBoNFCr1SGpELuNI3DzPOzj96BfryJIJuiyCoF47UGccpA8daQeGUnQYQRI+gNkw9ck11UewpidAc9Ow3RQFzjUK7TDKQpL0HL2Ai73WmDp7YW5qwN1uqIIbzrUk8xVpaPysy9g6umFxWKBubMVG9WZEQDW721Cb+9FHN1UhDR5NuoPn4b5kgUWSy+MnSeh14QPSHJoqz9Ga9t36Lko5POVyXi+DTtLNciiEKAIG4e2Jf17ZUFKkExQYMaCpEy1HsZ7E+A4D55cOw65VBLWwWTYsv04nr6xg2EY2KffY3raDoZlwdjf4MKhMihC3hHph+Q/TwbQ88soXAwLj9sFl4f1Huvg+OcBGsI81cZzP4DlHBg63IyLt61wC99xOeFyM97vTFtvY8f6kM0m/R5M2JzekxgZtwsOhwMut8d7to579hUuNdZQnGSC6jQZAE6QTFDxRYekDHu//QVOlod9Yhh1mkgvT1W2B6NvneB5B26ea0C5rhSlZeX49OQVvPXwcE9b0VClDYDVD0mPxwOWcePB1U58tKMGNbX7cOtvu/eo2Sc/nkGWLDia+yDJYtbmAue2YaDrKGprqlFb34BfXkyD55wYPLY96LWW1qDvsgH/adiNutrtqKqqwvaaj9D2w0Pvmd8e+yhBMkF1SpBMoIbzb9yYzWaYTCZvMnR1obW5AbpNWihk4R5XsNOLsaGjQTK/ognjsx5wrvfoaoxyeqFUgSMX7oHhGPx5rXWhlylNR5P5AVjOg/vfNUI+7036Icl55nDr/EGoQ7zMjZUtmHKycL15hKJ8ZQCsPkjy8MxY0XagPHA8bVqaHIe+7QfD8Rgf/GTBW82jvuFcko+hSdbr8dIvbsStRzH2keUqU8p4khnZBTjYfBzHj/lS69dn8L3BCJPJDFP3BbTUlwQ9mwSAfzgkJVIVzHdfg+MYPDCegCpimp0GmTIL157bwblncHyfHlKpdEGqPHAKDg8H29OLgfOv/ZB8+/sP0GQuXEuUFuvx8I0DvOsNDhXlR0ByYnAPpGG2zMpbB51Oh83asM0kiRQyZR6qdjXiVFs72ufTyKSHIBlmw+Xq/HSfDxt4UgaS0QQhkSpQWtuILqMJZmMn9OrE8SYXQFKZi7qOIXh4Hrax26gujn5yYYYqGw+neHCMG389e4h7w/cWpEejVjAsD9eLa1Ck+4Doh+SbaHGS+WW4M2YD757CMW0kJMcGagPgjGZ//zVFnhatvb9ixsF4p++8N3QpeOiYsHZKnuSHdWi/Telz+eyV0pD0CkmSicY2A4RpeGOV+oM6tRgEGArJzXWfY3zGA9b5Gm3lmpgesUKVjftTvnO0bTPvMDU1FTVNDJsiPMmokCwow91xO3j3PzgSxZP8IEhKpNhvGoGH4+B6Z0X3V/uxubgQwjskhXTthYs8SfIk17RfEiQlWTjY3g2z2YR9upAdV5ELMwBJdSWuPHsHjucwbPkCSnlsb1imVKF31AbO+R7N9SUfJLx4nmSurg4vZzxwv32KjQXB6bN/TfJDICmRSjFgZSCseX7fvD1iet7zzEmQFLkWxeA0rGQZUhqSEmk61ld/CoPRhO7OFmgSaPPGC8mcPLRcug2W4zBnHUBF2JphhHCkCjR3D4PhWPzZ3w5trirM65RAmZOLTKUiANBYkJQostDQfd8bsP7H4Dlky4PTm8VC8rdXHDj3LDoObQuUJyOnCJ913MAcyxMkCZIBPUZoehVskzKQVBWUYGfdLuyaT5/s/QzNLSdw3mBEd1cHarYE19TWoiEW+0wBkptrTmNs1gOeZzE1+l9c77seNXUf2xgQmXrDPoy+d4PnGEyO3sf1K5dh+N4Ag7EH12/cxL3Hj3F4jz6Q3w9J5/tx3LCY8PXxFnzZ+g36fn4AO8ODn/0Tn5cVBPIL9VgMJNMkUpz+9bXXE3738hGumo24aOnD8LMJeFhhaYAguVhtUP7ggL0ctkgZSK6raILBbPauPXrDgIzd6Dr3LU5+cRjlUeIJl8O4K3kPAZLbO0e8cYThGx3hf1tvVIVATIK86iYM3n8B25zLG7DNcRw4joXHYcfY82Hs2xGcim/YegR3Rl9iZtYFlhXy+fK6ZqfxfOQmGksLA96fv76LgmRaGjTbduPBi9dwMZxv44ZlYJsax51rZ3D29iR5kqvgLfnbjj4jAZsykFRkr8OG4mJotVpvKirSIF+dszBWMIHEKEAyf5MeO+vqUFtbi8rKypipbENkULlclYstum0h36lAeVkJCnMzwqAngSInH5tLt0JfEXzGttJNUGdG30VXa4q99y3bGFynjN/5JMjK12KrvsJXngo9thQXQi6TQL15K3bW7aTd7QTSZvy2joSQ2POnDCTF3hCLLZ93TXL+AKvw324v9l5iz0/vk0w8sIhdU4spH0EyQUdogiSBYzEdnfIuXS8ESYJkyHrl0oW0kp2QPElxtstKtrmY7k2QTAJIKpXKpD5iNSt74ZGy6enpSV1fOlKWjpQVveciplEsVllCp9v+90om66fwy5vQnyXm5OQE3qWZrHWmeqlE08bkSSaBJ5nsHYogKR5gJLvWotWPIEmQFM2IHU2gwjWCJEEyljZW4zpBMkEhGWsanqzXQ9fpkrWOVC9xblARJAmStEZMGiANxNEAQTKOcWhkF+fITu1C7bKaGiBIEiTJiyANkAbiaIAgGcc4qzla0bPIOyINiFMDBEmCJHkRpAHSQBwNECTjGIdGdnGO7NQu1C6rqQGCJEGSvAjSAGkgjgYIknGMs5qjFT2LvCPSgDg18D8zKXgEy/fu4QAAAABJRU5ErkJggg==)\n",
        "\n",
        "You will also create a **obj.data** file and fill it in like this (change your number of classes accordingly, as well as your backup location)\n",
        "\n",
        "![image.png](data:image/png;base64,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)\n",
        "\n",
        "This backup path is where we will save the weights to of our model throughout training. Create a backup folder in your google drive and put its correct path in this file."
      ]
    },
    {
      "cell_type": "markdown",
      "metadata": {
        "id": "nrkC4l-PbmNS"
      },
      "source": [
        "# Step 4: Download pre-trained weights for the convolutional layers.\n",
        "This step downloads the weights for the convolutional layers of the YOLOv4 network. By using these weights it helps your custom object detector to be way more accurate and not have to train as long. You don't have to use these weights but trust me it will help your modle converge and be accurate way faster. USE IT!"
      ]
    },
    {
      "cell_type": "markdown",
      "metadata": {
        "id": "m-HY1Xq8A9I2"
      },
      "source": [
        "\n",
        "\n",
        "```\n",
        "!./darknet detector train <path to obj.data> <path to custom config> <path to weights> -dont_show -map\n",
        "```\n",
        "\n"
      ]
    },
    {
      "cell_type": "markdown",
      "metadata": {
        "id": "3N4c0YWPA0iT"
      },
      "source": [
        "\n",
        "\n",
        "```\n",
        "function ClickConnect(){\n",
        "console.log(\"Working\"); \n",
        "document\n",
        "  .querySelector('#top-toolbar > colab-connect-button')\n",
        "  .shadowRoot.querySelector('#connect')\n",
        "  .click() \n",
        "}\n",
        "setInterval(ClickConnect,60000)\n",
        "```\n",
        "\n"
      ]
    },
    {
      "cell_type": "code",
      "execution_count": null,
      "metadata": {
        "colab": {
          "base_uri": "https://localhost:8080/"
        },
        "id": "imc0NP19hLuq",
        "outputId": "7c58bc1f-d8a9-40a6-ce35-9e9de329aab1"
      },
      "outputs": [],
      "source": [
        "# train your custom detector! (uncomment %%capture below if you run into memory issues or your Colab is crashing)\n",
        "# %%capture\n",
        "!./darknet detector train  \\\n",
        "                    ./yolov4/obj.data \\\n",
        "                    ./yolov4/yolov4-tiny.cfg \\\n",
        "                    ./yolov4/yolov4-tiny.conv.29 \\\n",
        "                    -dont_show -map"
      ]
    },
    {
      "cell_type": "markdown",
      "metadata": {
        "id": "5GjIkYFjhnYL"
      },
      "source": [
        "After training, you can observe a chart of how your model did throughout the training process by running the below command. It shows a chart of your average loss vs. iterations. For your model to be 'accurate' you should aim for a loss under 2."
      ]
    },
    {
      "cell_type": "code",
      "execution_count": null,
      "metadata": {
        "colab": {
          "base_uri": "https://localhost:8080/",
          "height": 574
        },
        "id": "uXPGYKmchv7Z",
        "outputId": "2a451676-bca6-4505-ef94-a079ce99f1a9"
      },
      "outputs": [],
      "source": [
        "# show chart.png of how custom object detector did with training\n",
        "imShow('chart.png')"
      ]
    },
    {
      "cell_type": "markdown",
      "metadata": {
        "id": "8dfPY2h39m-T"
      },
      "source": [
        "# Step 7: Run Your Custom Object Detector!!!\n",
        "You have done it! You now have a custom object detector to make your very own detections. Time to test it out and have some fun!"
      ]
    },
    {
      "cell_type": "code",
      "execution_count": null,
      "metadata": {
        "colab": {
          "base_uri": "https://localhost:8080/"
        },
        "id": "18pvR3EZXk4Q",
        "outputId": "44a0ec30-d75e-4798-c2a9-c6170469d12b"
      },
      "outputs": [],
      "source": [
        "%cd .."
      ]
    },
    {
      "cell_type": "code",
      "execution_count": null,
      "metadata": {
        "colab": {
          "base_uri": "https://localhost:8080/",
          "height": 1000
        },
        "id": "o7IIzEal90dA",
        "outputId": "52d7993d-4f0c-4cdd-e737-bc49f4052aad"
      },
      "outputs": [],
      "source": [
        "# run your custom detector with this command (upload an image to your google drive to test, thresh flag sets accuracy that detection must be in order to show it)\n",
        "!./darknet detector test \\\n",
        "                        ./yolov4/obj.data \\\n",
        "                        ./yolov4/yolov4-tiny.cfg  \\\n",
        "                        /content/drive/MyDrive/NTO/weights/YOLO/yolov4-tiny_best.weights \\\n",
        "                        ./yolov4/train/0_jpg.rf.17c258a77f845705171dc523f74dcf16.jpg\n",
        "imShow('predictions.jpg')"
      ]
    }
  ],
  "metadata": {
    "accelerator": "GPU",
    "colab": {
      "collapsed_sections": [
        "dA5j5MTLNaR2",
        "76_o1ERLNazX"
      ],
      "machine_shape": "hm",
      "name": "SignsDetection.ipynb",
      "provenance": []
    },
    "kernelspec": {
      "display_name": "Python 3",
      "name": "python3"
    }
  },
  "nbformat": 4,
  "nbformat_minor": 0
}
